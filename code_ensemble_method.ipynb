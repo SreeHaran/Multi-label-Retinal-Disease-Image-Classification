{
 "cells": [
  {
   "cell_type": "code",
   "execution_count": 2,
   "metadata": {
    "_cell_guid": "1caf38ac-5780-499c-810a-206103bd79b5",
    "_uuid": "54a927a0-92f1-4c6c-828c-db720b77971a",
    "execution": {
     "iopub.execute_input": "2021-12-07T15:45:24.875702Z",
     "iopub.status.busy": "2021-12-07T15:45:24.875373Z",
     "iopub.status.idle": "2021-12-07T15:45:30.086279Z",
     "shell.execute_reply": "2021-12-07T15:45:30.085525Z",
     "shell.execute_reply.started": "2021-12-07T15:45:24.875673Z"
    },
    "jupyter": {
     "outputs_hidden": false
    }
   },
   "outputs": [
    {
     "name": "stderr",
     "output_type": "stream",
     "text": [
      "2021-12-07 15:45:25.396921: I tensorflow/stream_executor/platform/default/dso_loader.cc:49] Successfully opened dynamic library libcudart.so.11.0\n"
     ]
    }
   ],
   "source": [
    "import tensorflow as tf\n",
    "from tensorflow import keras\n",
    "from tensorflow.keras.models import *\n",
    "from tensorflow.keras.layers import *\n",
    "from tensorflow.keras.applications.inception_v3 import InceptionV3\n",
    "from tensorflow_addons.metrics import CohenKappa\n",
    "import tensorflow.keras.backend as K\n",
    "\n",
    "import numpy as np\n",
    "import os\n",
    "import pandas as pd \n",
    "from PIL import Image\n",
    "import cv2\n",
    "import matplotlib.pyplot as plt\n",
    "\n",
    "from sklearn.model_selection import train_test_split"
   ]
  },
  {
   "cell_type": "code",
   "execution_count": 3,
   "metadata": {
    "_cell_guid": "6e36613f-8391-44a1-801e-6587cc6de559",
    "_uuid": "407ee767-ec9c-401f-b5b1-d981a2867d77",
    "execution": {
     "iopub.execute_input": "2021-12-07T15:45:30.089515Z",
     "iopub.status.busy": "2021-12-07T15:45:30.089032Z",
     "iopub.status.idle": "2021-12-07T15:45:30.094333Z",
     "shell.execute_reply": "2021-12-07T15:45:30.093428Z",
     "shell.execute_reply.started": "2021-12-07T15:45:30.089479Z"
    },
    "jupyter": {
     "outputs_hidden": false
    }
   },
   "outputs": [],
   "source": [
    "root=\"../input/vietai-advance-retinal-disease-detection-2020\"\n",
    "\n",
    "TRAIN_DIR = os.path.join(root, \"train/train\")\n",
    "TEST_DIR = os.path.join(root, \"test/test\")\n"
   ]
  },
  {
   "cell_type": "code",
   "execution_count": 6,
   "metadata": {
    "execution": {
     "iopub.execute_input": "2021-12-07T15:45:59.551124Z",
     "iopub.status.busy": "2021-12-07T15:45:59.550186Z",
     "iopub.status.idle": "2021-12-07T15:45:59.593198Z",
     "shell.execute_reply": "2021-12-07T15:45:59.592500Z",
     "shell.execute_reply.started": "2021-12-07T15:45:59.551061Z"
    }
   },
   "outputs": [
    {
     "data": {
      "text/html": [
       "<div>\n",
       "<style scoped>\n",
       "    .dataframe tbody tr th:only-of-type {\n",
       "        vertical-align: middle;\n",
       "    }\n",
       "\n",
       "    .dataframe tbody tr th {\n",
       "        vertical-align: top;\n",
       "    }\n",
       "\n",
       "    .dataframe thead th {\n",
       "        text-align: right;\n",
       "    }\n",
       "</style>\n",
       "<table border=\"1\" class=\"dataframe\">\n",
       "  <thead>\n",
       "    <tr style=\"text-align: right;\">\n",
       "      <th></th>\n",
       "      <th>filename</th>\n",
       "      <th>opacity</th>\n",
       "      <th>diabetic retinopathy</th>\n",
       "      <th>glaucoma</th>\n",
       "      <th>macular edema</th>\n",
       "      <th>macular degeneration</th>\n",
       "      <th>retinal vascular occlusion</th>\n",
       "      <th>normal</th>\n",
       "    </tr>\n",
       "  </thead>\n",
       "  <tbody>\n",
       "    <tr>\n",
       "      <th>0</th>\n",
       "      <td>c24a1b14d253.jpg</td>\n",
       "      <td>0</td>\n",
       "      <td>0</td>\n",
       "      <td>0</td>\n",
       "      <td>0</td>\n",
       "      <td>0</td>\n",
       "      <td>1</td>\n",
       "      <td>0</td>\n",
       "    </tr>\n",
       "    <tr>\n",
       "      <th>1</th>\n",
       "      <td>9ee905a41651.jpg</td>\n",
       "      <td>0</td>\n",
       "      <td>0</td>\n",
       "      <td>0</td>\n",
       "      <td>0</td>\n",
       "      <td>0</td>\n",
       "      <td>1</td>\n",
       "      <td>0</td>\n",
       "    </tr>\n",
       "    <tr>\n",
       "      <th>2</th>\n",
       "      <td>3f58d128caf6.jpg</td>\n",
       "      <td>0</td>\n",
       "      <td>0</td>\n",
       "      <td>1</td>\n",
       "      <td>0</td>\n",
       "      <td>0</td>\n",
       "      <td>0</td>\n",
       "      <td>0</td>\n",
       "    </tr>\n",
       "    <tr>\n",
       "      <th>3</th>\n",
       "      <td>4ce6599e7b20.jpg</td>\n",
       "      <td>1</td>\n",
       "      <td>0</td>\n",
       "      <td>0</td>\n",
       "      <td>0</td>\n",
       "      <td>1</td>\n",
       "      <td>0</td>\n",
       "      <td>0</td>\n",
       "    </tr>\n",
       "    <tr>\n",
       "      <th>4</th>\n",
       "      <td>0def470360e4.jpg</td>\n",
       "      <td>1</td>\n",
       "      <td>0</td>\n",
       "      <td>0</td>\n",
       "      <td>0</td>\n",
       "      <td>1</td>\n",
       "      <td>0</td>\n",
       "      <td>0</td>\n",
       "    </tr>\n",
       "  </tbody>\n",
       "</table>\n",
       "</div>"
      ],
      "text/plain": [
       "           filename  opacity  diabetic retinopathy  glaucoma  macular edema  \\\n",
       "0  c24a1b14d253.jpg        0                     0         0              0   \n",
       "1  9ee905a41651.jpg        0                     0         0              0   \n",
       "2  3f58d128caf6.jpg        0                     0         1              0   \n",
       "3  4ce6599e7b20.jpg        1                     0         0              0   \n",
       "4  0def470360e4.jpg        1                     0         0              0   \n",
       "\n",
       "   macular degeneration  retinal vascular occlusion  normal  \n",
       "0                     0                           1       0  \n",
       "1                     0                           1       0  \n",
       "2                     0                           0       0  \n",
       "3                     1                           0       0  \n",
       "4                     1                           0       0  "
      ]
     },
     "execution_count": 6,
     "metadata": {},
     "output_type": "execute_result"
    }
   ],
   "source": [
    "data = pd.read_csv(os.path.join(root, \"train.csv\"))\n",
    "data.head()"
   ]
  },
  {
   "cell_type": "code",
   "execution_count": 7,
   "metadata": {
    "execution": {
     "iopub.execute_input": "2021-12-07T15:46:02.411883Z",
     "iopub.status.busy": "2021-12-07T15:46:02.410988Z",
     "iopub.status.idle": "2021-12-07T15:46:02.430681Z",
     "shell.execute_reply": "2021-12-07T15:46:02.429935Z",
     "shell.execute_reply.started": "2021-12-07T15:46:02.411838Z"
    }
   },
   "outputs": [
    {
     "name": "stdout",
     "output_type": "stream",
     "text": [
      "Distribution of opacity\n",
      "0    1902\n",
      "1    1533\n",
      "Name: opacity, dtype: int64\n",
      "Distribution of diabetic retinopathy\n",
      "0    2680\n",
      "1     755\n",
      "Name: diabetic retinopathy, dtype: int64\n",
      "Distribution of glaucoma\n",
      "0    2838\n",
      "1     597\n",
      "Name: glaucoma, dtype: int64\n",
      "Distribution of macular edema\n",
      "0    2919\n",
      "1     516\n",
      "Name: macular edema, dtype: int64\n",
      "Distribution of macular degeneration\n",
      "0    2861\n",
      "1     574\n",
      "Name: macular degeneration, dtype: int64\n",
      "Distribution of retinal vascular occlusion\n",
      "0    2995\n",
      "1     440\n",
      "Name: retinal vascular occlusion, dtype: int64\n",
      "Distribution of normal\n",
      "0    2910\n",
      "1     525\n",
      "Name: normal, dtype: int64\n"
     ]
    }
   ],
   "source": [
    "for label in data.columns[1:]:\n",
    "    print(\"Distribution of\", label)\n",
    "    print(data[label].value_counts())"
   ]
  },
  {
   "cell_type": "code",
   "execution_count": 8,
   "metadata": {
    "execution": {
     "iopub.execute_input": "2021-12-07T15:46:05.475274Z",
     "iopub.status.busy": "2021-12-07T15:46:05.474574Z",
     "iopub.status.idle": "2021-12-07T15:46:05.642278Z",
     "shell.execute_reply": "2021-12-07T15:46:05.641583Z",
     "shell.execute_reply.started": "2021-12-07T15:46:05.475241Z"
    }
   },
   "outputs": [
    {
     "data": {
      "text/plain": [
       "opacity                                                                  671\n",
       "normal                                                                   525\n",
       "glaucoma                                                                 327\n",
       "macular degeneration                                                     299\n",
       "diabetic retinopathy                                                     212\n",
       "opacity,macular degeneration                                             212\n",
       "opacity,diabetic retinopathy                                             186\n",
       "retinal vascular occlusion                                               170\n",
       "diabetic retinopathy,macular edema                                       162\n",
       "opacity,diabetic retinopathy,macular edema                               154\n",
       "opacity,glaucoma                                                         140\n",
       "macular edema,retinal vascular occlusion                                  74\n",
       "opacity,macular edema,retinal vascular occlusion                          62\n",
       "opacity,retinal vascular occlusion                                        55\n",
       "glaucoma,macular degeneration                                             31\n",
       "glaucoma,retinal vascular occlusion                                       27\n",
       "macular edema                                                             27\n",
       "opacity,glaucoma,macular degeneration                                     16\n",
       "diabetic retinopathy,glaucoma                                             15\n",
       "glaucoma,macular edema,retinal vascular occlusion                         14\n",
       "opacity,glaucoma,retinal vascular occlusion                               10\n",
       "opacity,glaucoma,macular edema,retinal vascular occlusion                  8\n",
       "diabetic retinopathy,retinal vascular occlusion                            5\n",
       "opacity,diabetic retinopathy,macular degeneration                          5\n",
       "opacity,diabetic retinopathy,retinal vascular occlusion                    4\n",
       "opacity,macular degeneration,retinal vascular occlusion                    3\n",
       "glaucoma,macular edema                                                     3\n",
       "diabetic retinopathy,glaucoma,macular edema                                3\n",
       "opacity,diabetic retinopathy,macular edema,macular degeneration            2\n",
       "diabetic retinopathy,macular edema,retinal vascular occlusion              2\n",
       "opacity,macular edema                                                      2\n",
       "diabetic retinopathy,macular degeneration                                  2\n",
       "macular degeneration,retinal vascular occlusion                            2\n",
       "opacity,diabetic retinopathy,macular edema,retinal vascular occlusion      2\n",
       "glaucoma,macular degeneration,retinal vascular occlusion                   2\n",
       "opacity,diabetic retinopathy,glaucoma,macular edema                        1\n",
       "dtype: int64"
      ]
     },
     "execution_count": 8,
     "metadata": {},
     "output_type": "execute_result"
    }
   ],
   "source": [
    "LABELS = data.columns[1:]\n",
    "def build_label(row):\n",
    "    return \",\".join([LABELS[idx] for idx, val in enumerate(row[1:]) if val == 1])\n",
    "        \n",
    "data.apply(lambda x: build_label(x), axis=1).value_counts()"
   ]
  },
  {
   "cell_type": "code",
   "execution_count": 9,
   "metadata": {
    "execution": {
     "iopub.execute_input": "2021-12-07T15:46:08.187412Z",
     "iopub.status.busy": "2021-12-07T15:46:08.186871Z",
     "iopub.status.idle": "2021-12-07T15:46:08.192789Z",
     "shell.execute_reply": "2021-12-07T15:46:08.191945Z",
     "shell.execute_reply.started": "2021-12-07T15:46:08.187377Z"
    }
   },
   "outputs": [
    {
     "data": {
      "text/plain": [
       "Index(['opacity', 'diabetic retinopathy', 'glaucoma', 'macular edema',\n",
       "       'macular degeneration', 'retinal vascular occlusion', 'normal'],\n",
       "      dtype='object')"
      ]
     },
     "execution_count": 9,
     "metadata": {},
     "output_type": "execute_result"
    }
   ],
   "source": [
    "LABELS"
   ]
  },
  {
   "cell_type": "code",
   "execution_count": 10,
   "metadata": {
    "execution": {
     "iopub.execute_input": "2021-12-07T15:46:10.835424Z",
     "iopub.status.busy": "2021-12-07T15:46:10.834893Z",
     "iopub.status.idle": "2021-12-07T15:46:10.845915Z",
     "shell.execute_reply": "2021-12-07T15:46:10.845277Z",
     "shell.execute_reply.started": "2021-12-07T15:46:10.835388Z"
    }
   },
   "outputs": [],
   "source": [
    "train_data, val_data = train_test_split(data, test_size=0.2, random_state=2019)"
   ]
  },
  {
   "cell_type": "code",
   "execution_count": 11,
   "metadata": {
    "execution": {
     "iopub.execute_input": "2021-12-07T15:46:13.099980Z",
     "iopub.status.busy": "2021-12-07T15:46:13.099291Z",
     "iopub.status.idle": "2021-12-07T15:46:13.107361Z",
     "shell.execute_reply": "2021-12-07T15:46:13.106709Z",
     "shell.execute_reply.started": "2021-12-07T15:46:13.099943Z"
    }
   },
   "outputs": [],
   "source": [
    "def preprocessing_image(image):\n",
    "    \"\"\"\n",
    "    Preprocess image after resize and augment data with ImageDataGenerator\n",
    "    \n",
    "    Parameters\n",
    "    ----------\n",
    "    image: numpy tensor with rank 3\n",
    "        image to preprocessing\n",
    "    \n",
    "    Returns\n",
    "    -------\n",
    "    numpy tensor with rank 3\n",
    "    \"\"\"\n",
    "    # TODO: augment more here\n",
    "    \n",
    "    return image"
   ]
  },
  {
   "cell_type": "code",
   "execution_count": 12,
   "metadata": {
    "execution": {
     "iopub.execute_input": "2021-12-07T15:46:15.780191Z",
     "iopub.status.busy": "2021-12-07T15:46:15.779490Z",
     "iopub.status.idle": "2021-12-07T15:46:15.784124Z",
     "shell.execute_reply": "2021-12-07T15:46:15.783149Z",
     "shell.execute_reply.started": "2021-12-07T15:46:15.780156Z"
    }
   },
   "outputs": [],
   "source": [
    "penalty = 0.01\n",
    "regularizer = tf.keras.regularizers.l2(penalty)"
   ]
  },
  {
   "cell_type": "code",
   "execution_count": 13,
   "metadata": {
    "_cell_guid": "79f6d095-5583-4971-8cb8-82c608b7026e",
    "_uuid": "7b28a576-ae79-4c85-83d8-14625bfcd71c",
    "execution": {
     "iopub.execute_input": "2021-12-07T15:46:18.131923Z",
     "iopub.status.busy": "2021-12-07T15:46:18.131384Z",
     "iopub.status.idle": "2021-12-07T15:46:18.136416Z",
     "shell.execute_reply": "2021-12-07T15:46:18.135502Z",
     "shell.execute_reply.started": "2021-12-07T15:46:18.131888Z"
    },
    "jupyter": {
     "outputs_hidden": false
    }
   },
   "outputs": [],
   "source": [
    "train_datagen = keras.preprocessing.image.ImageDataGenerator(rescale=1./255,\n",
    "                                                             featurewise_center=True,\n",
    "                                                             featurewise_std_normalization=True,\n",
    "                                                             preprocessing_function=preprocessing_image)"
   ]
  },
  {
   "cell_type": "code",
   "execution_count": null,
   "metadata": {
    "_cell_guid": "8d5cdc04-db1c-4a1a-b5d1-c84d21ec809d",
    "_uuid": "8a9b397d-5300-41e1-8b92-a1fed423e6f1",
    "execution": {
     "iopub.execute_input": "2021-12-07T15:46:19.621108Z",
     "iopub.status.busy": "2021-12-07T15:46:19.620409Z",
     "iopub.status.idle": "2021-12-07T15:46:19.931159Z",
     "shell.execute_reply": "2021-12-07T15:46:19.930293Z",
     "shell.execute_reply.started": "2021-12-07T15:46:19.621074Z"
    },
    "jupyter": {
     "outputs_hidden": false
    },
    "scrolled": true
   },
   "outputs": [],
   "source": [
    "def build_label_list(row):\n",
    "    return [LABELS[idx] for idx, val in enumerate(row[1:]) if val == 1]\n",
    "        \n",
    "train_data[\"label\"] = train_data.apply(lambda x: build_label_list(x), axis=1)\n",
    "val_data[\"label\"] = val_data.apply(lambda x: build_label_list(x), axis=1)"
   ]
  },
  {
   "cell_type": "code",
   "execution_count": 15,
   "metadata": {
    "execution": {
     "iopub.execute_input": "2021-12-07T15:46:22.228111Z",
     "iopub.status.busy": "2021-12-07T15:46:22.227533Z",
     "iopub.status.idle": "2021-12-07T15:46:22.232656Z",
     "shell.execute_reply": "2021-12-07T15:46:22.231697Z",
     "shell.execute_reply.started": "2021-12-07T15:46:22.228076Z"
    }
   },
   "outputs": [],
   "source": [
    "IMAGE_SIZE = 224\n",
    "IMAGENET_MEAN = [0.485, 0.456, 0.406]\n",
    "IMAGENET_STD = [0.229, 0.224, 0.225]\n",
    "BATCH_SIZE = 64\n",
    "LEARNING_RATE = 0.001\n",
    "LEARNING_RATE_SCHEDULE_FACTOR = 0.1\n",
    "LEARNING_RATE_SCHEDULE_PATIENCE = 5\n",
    "MAX_EPOCHS = 100 "
   ]
  },
  {
   "cell_type": "code",
   "execution_count": 16,
   "metadata": {
    "_cell_guid": "0f1d121a-3ff4-489d-830e-5bf6542157ad",
    "_uuid": "fd6dfc22-673f-4a7d-82f8-b79071c41fa1",
    "execution": {
     "iopub.execute_input": "2021-12-07T15:46:24.196112Z",
     "iopub.status.busy": "2021-12-07T15:46:24.195381Z",
     "iopub.status.idle": "2021-12-07T15:46:32.189798Z",
     "shell.execute_reply": "2021-12-07T15:46:32.187701Z",
     "shell.execute_reply.started": "2021-12-07T15:46:24.196077Z"
    },
    "jupyter": {
     "outputs_hidden": false
    }
   },
   "outputs": [
    {
     "name": "stdout",
     "output_type": "stream",
     "text": [
      "Found 2748 validated image filenames belonging to 7 classes.\n"
     ]
    }
   ],
   "source": [
    "train_gen = train_datagen.flow_from_dataframe(dataframe=train_data,\n",
    "                                        directory=TRAIN_DIR, \n",
    "                                        x_col=\"filename\", \n",
    "                                        y_col=\"label\",\n",
    "                                        class_mode=\"categorical\",\n",
    "                                        target_size=(IMAGE_SIZE,IMAGE_SIZE), \n",
    "                                        batch_size=BATCH_SIZE)"
   ]
  },
  {
   "cell_type": "code",
   "execution_count": 17,
   "metadata": {
    "_cell_guid": "5ee56f91-63c2-4c84-83f9-f1f32b0c2d71",
    "_uuid": "edbd1b55-d4e4-4fbd-9d12-a606d51c00eb",
    "execution": {
     "iopub.execute_input": "2021-12-07T15:46:32.196510Z",
     "iopub.status.busy": "2021-12-07T15:46:32.194373Z",
     "iopub.status.idle": "2021-12-07T15:46:34.016522Z",
     "shell.execute_reply": "2021-12-07T15:46:34.015791Z",
     "shell.execute_reply.started": "2021-12-07T15:46:32.196472Z"
    },
    "jupyter": {
     "outputs_hidden": false
    }
   },
   "outputs": [
    {
     "name": "stdout",
     "output_type": "stream",
     "text": [
      "Found 687 validated image filenames belonging to 7 classes.\n"
     ]
    }
   ],
   "source": [
    "val_gen = train_datagen.flow_from_dataframe(dataframe=val_data,\n",
    "                                        directory=TRAIN_DIR, \n",
    "                                        x_col=\"filename\", \n",
    "                                        y_col=\"label\",\n",
    "                                        class_mode=\"categorical\",\n",
    "                                        shuffle=False,\n",
    "                                        target_size=(IMAGE_SIZE,IMAGE_SIZE), \n",
    "                                        batch_size=BATCH_SIZE)"
   ]
  },
  {
   "cell_type": "code",
   "execution_count": 23,
   "metadata": {
    "_cell_guid": "00eee0c8-f288-4d70-90bb-5a2f61263394",
    "_uuid": "a8e8a3ec-e780-4fea-8078-932480ff16d5",
    "execution": {
     "iopub.execute_input": "2021-12-07T15:53:14.712318Z",
     "iopub.status.busy": "2021-12-07T15:53:14.712060Z",
     "iopub.status.idle": "2021-12-07T15:53:14.721757Z",
     "shell.execute_reply": "2021-12-07T15:53:14.720917Z",
     "shell.execute_reply.started": "2021-12-07T15:53:14.712293Z"
    },
    "jupyter": {
     "outputs_hidden": false
    }
   },
   "outputs": [],
   "source": [
    "def f1(y_true, y_pred):\n",
    "    def recall(y_true, y_pred):\n",
    "        true_positives = K.sum(K.round(K.clip(y_true * y_pred, 0, 1)))\n",
    "        possible_positives = K.sum(K.round(K.clip(y_true, 0, 1)))\n",
    "        recall = true_positives / (possible_positives + K.epsilon())\n",
    "        return recall\n",
    "\n",
    "    def precision(y_true, y_pred):\n",
    "        true_positives = K.sum(K.round(K.clip(y_true * y_pred, 0, 1)))\n",
    "        predicted_positives = K.sum(K.round(K.clip(y_pred, 0, 1)))\n",
    "        precision = true_positives / (predicted_positives + K.epsilon())\n",
    "        return precision\n",
    "    precision = precision(y_true, y_pred)\n",
    "    recall = recall(y_true, y_pred)\n",
    "    return 2*((precision*recall)/(precision+recall+K.epsilon()))"
   ]
  },
  {
   "cell_type": "code",
   "execution_count": 22,
   "metadata": {
    "_cell_guid": "29c65227-3a5c-47d7-8879-1fdadc30e204",
    "_uuid": "e26fb4c9-05f8-4f44-b9dd-8a3c10004279",
    "execution": {
     "iopub.execute_input": "2021-12-07T15:53:07.131272Z",
     "iopub.status.busy": "2021-12-07T15:53:07.130673Z",
     "iopub.status.idle": "2021-12-07T15:53:09.742030Z",
     "shell.execute_reply": "2021-12-07T15:53:09.741240Z",
     "shell.execute_reply.started": "2021-12-07T15:53:07.131233Z"
    },
    "jupyter": {
     "outputs_hidden": false
    }
   },
   "outputs": [],
   "source": [
    "inputs = Input(shape=(IMAGE_SIZE,IMAGE_SIZE,3))\n",
    "inception_layers = InceptionV3(weights='imagenet', include_top=False,input_shape=(IMAGE_SIZE,IMAGE_SIZE,3))(inputs)\n",
    "avg_layer = AveragePooling2D(pool_size=(5, 5), strides=(1, 1), padding='valid')(inception_layers)\n",
    "flat = Flatten()(avg_layer)\n",
    "outputs = Dense(7, activation='sigmoid')(flat)\n",
    "        \n",
    "inception_model = Model(inputs=inputs, outputs=outputs, name=\"inception_v3_model\")"
   ]
  },
  {
   "cell_type": "code",
   "execution_count": 24,
   "metadata": {
    "_cell_guid": "7fe43182-212e-4438-9afe-0770f1205f76",
    "_uuid": "3f4dc093-a295-4e7d-8e16-bdd8c6ec3bd2",
    "execution": {
     "iopub.execute_input": "2021-12-07T15:53:18.903263Z",
     "iopub.status.busy": "2021-12-07T15:53:18.902914Z",
     "iopub.status.idle": "2021-12-07T15:53:18.962759Z",
     "shell.execute_reply": "2021-12-07T15:53:18.961928Z",
     "shell.execute_reply.started": "2021-12-07T15:53:18.903219Z"
    },
    "jupyter": {
     "outputs_hidden": false
    }
   },
   "outputs": [
    {
     "name": "stdout",
     "output_type": "stream",
     "text": [
      "Model: \"inception_v3_model\"\n",
      "_________________________________________________________________\n",
      "Layer (type)                 Output Shape              Param #   \n",
      "=================================================================\n",
      "input_9 (InputLayer)         [(None, 224, 224, 3)]     0         \n",
      "_________________________________________________________________\n",
      "inception_v3 (Functional)    (None, 5, 5, 2048)        21802784  \n",
      "_________________________________________________________________\n",
      "average_pooling2d_49 (Averag (None, 1, 1, 2048)        0         \n",
      "_________________________________________________________________\n",
      "flatten_4 (Flatten)          (None, 2048)              0         \n",
      "_________________________________________________________________\n",
      "dense_4 (Dense)              (None, 7)                 14343     \n",
      "=================================================================\n",
      "Total params: 21,817,127\n",
      "Trainable params: 21,782,695\n",
      "Non-trainable params: 34,432\n",
      "_________________________________________________________________\n"
     ]
    }
   ],
   "source": [
    "inception_model.compile(optimizer=keras.optimizers.Adam(lr=LEARNING_RATE), \n",
    "              loss='binary_crossentropy', \n",
    "              metrics=['accuracy',f1,CohenKappa(num_classes=7)])\n",
    "inception_model.summary()"
   ]
  },
  {
   "cell_type": "code",
   "execution_count": 25,
   "metadata": {
    "execution": {
     "iopub.execute_input": "2021-12-07T15:53:21.977518Z",
     "iopub.status.busy": "2021-12-07T15:53:21.976943Z",
     "iopub.status.idle": "2021-12-07T15:53:21.982461Z",
     "shell.execute_reply": "2021-12-07T15:53:21.981683Z",
     "shell.execute_reply.started": "2021-12-07T15:53:21.977482Z"
    }
   },
   "outputs": [],
   "source": [
    "steps_per_epoch = train_gen.n // BATCH_SIZE\n",
    "validation_steps = val_gen.n // BATCH_SIZE"
   ]
  },
  {
   "cell_type": "code",
   "execution_count": 26,
   "metadata": {
    "execution": {
     "iopub.execute_input": "2021-12-07T15:53:27.783964Z",
     "iopub.status.busy": "2021-12-07T15:53:27.783322Z",
     "iopub.status.idle": "2021-12-07T15:53:27.789035Z",
     "shell.execute_reply": "2021-12-07T15:53:27.788321Z",
     "shell.execute_reply.started": "2021-12-07T15:53:27.783927Z"
    }
   },
   "outputs": [],
   "source": [
    "mcp = keras.callbacks.ModelCheckpoint(\"inception_model.h5\", monitor=\"val_f1\", save_best_only=True, save_weights_only=True, verbose=1,mode='max')\n",
    "rlr = keras.callbacks.ReduceLROnPlateau(monitor='val_f1', factor=LEARNING_RATE_SCHEDULE_FACTOR, mode='max', patience=LEARNING_RATE_SCHEDULE_PATIENCE, min_lr=1e-8, verbose=1)\n",
    "callbacks = [mcp, rlr]"
   ]
  },
  {
   "cell_type": "code",
   "execution_count": 27,
   "metadata": {
    "_cell_guid": "5e4ba713-6860-4b5d-a7f3-3755681ad1d2",
    "_uuid": "0ea7da0d-8db8-4f1d-afe2-3112daa5e68e",
    "execution": {
     "iopub.execute_input": "2021-12-07T15:53:29.815305Z",
     "iopub.status.busy": "2021-12-07T15:53:29.814774Z",
     "iopub.status.idle": "2021-12-07T16:27:42.031634Z",
     "shell.execute_reply": "2021-12-07T16:27:42.030913Z",
     "shell.execute_reply.started": "2021-12-07T15:53:29.815270Z"
    },
    "jupyter": {
     "outputs_hidden": false
    }
   },
   "outputs": [
    {
     "name": "stderr",
     "output_type": "stream",
     "text": [
      "/opt/conda/lib/python3.7/site-packages/tensorflow/python/keras/engine/training.py:1844: UserWarning: `Model.fit_generator` is deprecated and will be removed in a future version. Please use `Model.fit`, which supports generators.\n",
      "  warnings.warn('`Model.fit_generator` is deprecated and '\n",
      "/opt/conda/lib/python3.7/site-packages/keras_preprocessing/image/image_data_generator.py:720: UserWarning: This ImageDataGenerator specifies `featurewise_center`, but it hasn't been fit on any training data. Fit it first by calling `.fit(numpy_data)`.\n",
      "  warnings.warn('This ImageDataGenerator specifies '\n",
      "/opt/conda/lib/python3.7/site-packages/keras_preprocessing/image/image_data_generator.py:728: UserWarning: This ImageDataGenerator specifies `featurewise_std_normalization`, but it hasn't been fit on any training data. Fit it first by calling `.fit(numpy_data)`.\n",
      "  warnings.warn('This ImageDataGenerator specifies '\n",
      "2021-12-07 15:53:30.614166: I tensorflow/compiler/mlir/mlir_graph_optimization_pass.cc:116] None of the MLIR optimization passes are enabled (registered 2)\n",
      "2021-12-07 15:53:30.621545: I tensorflow/core/platform/profile_utils/cpu_utils.cc:112] CPU Frequency: 2000179999 Hz\n"
     ]
    },
    {
     "name": "stdout",
     "output_type": "stream",
     "text": [
      "Epoch 1/100\n"
     ]
    },
    {
     "name": "stderr",
     "output_type": "stream",
     "text": [
      "2021-12-07 15:53:37.233724: I tensorflow/stream_executor/platform/default/dso_loader.cc:49] Successfully opened dynamic library libcublas.so.11\n",
      "2021-12-07 15:53:38.030480: I tensorflow/stream_executor/platform/default/dso_loader.cc:49] Successfully opened dynamic library libcublasLt.so.11\n",
      "2021-12-07 15:53:38.096831: I tensorflow/stream_executor/platform/default/dso_loader.cc:49] Successfully opened dynamic library libcudnn.so.8\n"
     ]
    },
    {
     "name": "stdout",
     "output_type": "stream",
     "text": [
      "42/42 [==============================] - 51s 903ms/step - loss: 0.4130 - accuracy: 0.4018 - f1: 0.4769 - val_loss: 3.4330 - val_accuracy: 0.1531 - val_f1: 0.1256\n",
      "\n",
      "Epoch 00001: val_f1 improved from -inf to 0.12559, saving model to inception_model.h5\n",
      "Epoch 2/100\n",
      "42/42 [==============================] - 21s 489ms/step - loss: 0.2467 - accuracy: 0.6435 - f1: 0.7318 - val_loss: 10.1407 - val_accuracy: 0.1562 - val_f1: 0.1283\n",
      "\n",
      "Epoch 00002: val_f1 improved from 0.12559 to 0.12829, saving model to inception_model.h5\n",
      "Epoch 3/100\n",
      "42/42 [==============================] - 20s 473ms/step - loss: 0.1871 - accuracy: 0.7211 - f1: 0.7937 - val_loss: 0.5385 - val_accuracy: 0.3766 - val_f1: 0.5074\n",
      "\n",
      "Epoch 00003: val_f1 improved from 0.12829 to 0.50741, saving model to inception_model.h5\n",
      "Epoch 4/100\n",
      "42/42 [==============================] - 20s 483ms/step - loss: 0.1617 - accuracy: 0.7485 - f1: 0.8419 - val_loss: 0.4491 - val_accuracy: 0.5031 - val_f1: 0.6180\n",
      "\n",
      "Epoch 00004: val_f1 improved from 0.50741 to 0.61803, saving model to inception_model.h5\n",
      "Epoch 5/100\n",
      "42/42 [==============================] - 20s 471ms/step - loss: 0.1305 - accuracy: 0.7885 - f1: 0.8766 - val_loss: 0.4371 - val_accuracy: 0.5422 - val_f1: 0.6370\n",
      "\n",
      "Epoch 00005: val_f1 improved from 0.61803 to 0.63698, saving model to inception_model.h5\n",
      "Epoch 6/100\n",
      "42/42 [==============================] - 20s 483ms/step - loss: 0.0937 - accuracy: 0.8197 - f1: 0.9169 - val_loss: 0.5317 - val_accuracy: 0.4187 - val_f1: 0.6299\n",
      "\n",
      "Epoch 00006: val_f1 did not improve from 0.63698\n",
      "Epoch 7/100\n",
      "42/42 [==============================] - 20s 481ms/step - loss: 0.0796 - accuracy: 0.8229 - f1: 0.9298 - val_loss: 0.5505 - val_accuracy: 0.5141 - val_f1: 0.6469\n",
      "\n",
      "Epoch 00007: val_f1 improved from 0.63698 to 0.64686, saving model to inception_model.h5\n",
      "Epoch 8/100\n",
      "42/42 [==============================] - 20s 469ms/step - loss: 0.0661 - accuracy: 0.8165 - f1: 0.9362 - val_loss: 0.5922 - val_accuracy: 0.5625 - val_f1: 0.6172\n",
      "\n",
      "Epoch 00008: val_f1 did not improve from 0.64686\n",
      "Epoch 9/100\n",
      "42/42 [==============================] - 20s 483ms/step - loss: 0.0549 - accuracy: 0.8176 - f1: 0.9500 - val_loss: 0.4801 - val_accuracy: 0.5453 - val_f1: 0.5956\n",
      "\n",
      "Epoch 00009: val_f1 did not improve from 0.64686\n",
      "Epoch 10/100\n",
      "42/42 [==============================] - 20s 484ms/step - loss: 0.0390 - accuracy: 0.8350 - f1: 0.9677 - val_loss: 0.7279 - val_accuracy: 0.5234 - val_f1: 0.6491\n",
      "\n",
      "Epoch 00010: val_f1 improved from 0.64686 to 0.64910, saving model to inception_model.h5\n",
      "Epoch 11/100\n",
      "42/42 [==============================] - 20s 466ms/step - loss: 0.0488 - accuracy: 0.8018 - f1: 0.9560 - val_loss: 0.4868 - val_accuracy: 0.5031 - val_f1: 0.6229\n",
      "\n",
      "Epoch 00011: val_f1 did not improve from 0.64910\n",
      "Epoch 12/100\n",
      "42/42 [==============================] - 20s 484ms/step - loss: 0.0428 - accuracy: 0.8264 - f1: 0.9619 - val_loss: 0.6521 - val_accuracy: 0.4172 - val_f1: 0.5584\n",
      "\n",
      "Epoch 00012: val_f1 did not improve from 0.64910\n",
      "Epoch 13/100\n",
      "42/42 [==============================] - 20s 472ms/step - loss: 0.0270 - accuracy: 0.8140 - f1: 0.9767 - val_loss: 0.3907 - val_accuracy: 0.6187 - val_f1: 0.7312\n",
      "\n",
      "Epoch 00013: val_f1 improved from 0.64910 to 0.73118, saving model to inception_model.h5\n",
      "Epoch 14/100\n",
      "42/42 [==============================] - 20s 482ms/step - loss: 0.0271 - accuracy: 0.8385 - f1: 0.9779 - val_loss: 0.5450 - val_accuracy: 0.6281 - val_f1: 0.6719\n",
      "\n",
      "Epoch 00014: val_f1 did not improve from 0.73118\n",
      "Epoch 15/100\n",
      "42/42 [==============================] - 20s 481ms/step - loss: 0.0308 - accuracy: 0.8384 - f1: 0.9744 - val_loss: 0.4572 - val_accuracy: 0.6297 - val_f1: 0.7370\n",
      "\n",
      "Epoch 00015: val_f1 improved from 0.73118 to 0.73698, saving model to inception_model.h5\n",
      "Epoch 16/100\n",
      "42/42 [==============================] - 20s 471ms/step - loss: 0.0242 - accuracy: 0.8408 - f1: 0.9781 - val_loss: 0.4236 - val_accuracy: 0.5844 - val_f1: 0.7308\n",
      "\n",
      "Epoch 00016: val_f1 did not improve from 0.73698\n",
      "Epoch 17/100\n",
      "42/42 [==============================] - 20s 477ms/step - loss: 0.0190 - accuracy: 0.8311 - f1: 0.9836 - val_loss: 0.5348 - val_accuracy: 0.5750 - val_f1: 0.6934\n",
      "\n",
      "Epoch 00017: val_f1 did not improve from 0.73698\n",
      "Epoch 18/100\n",
      "42/42 [==============================] - 20s 483ms/step - loss: 0.0159 - accuracy: 0.7976 - f1: 0.9879 - val_loss: 0.4406 - val_accuracy: 0.6406 - val_f1: 0.7369\n",
      "\n",
      "Epoch 00018: val_f1 did not improve from 0.73698\n",
      "Epoch 19/100\n",
      "42/42 [==============================] - 20s 481ms/step - loss: 0.0088 - accuracy: 0.8342 - f1: 0.9941 - val_loss: 0.4505 - val_accuracy: 0.6453 - val_f1: 0.7118\n",
      "\n",
      "Epoch 00019: val_f1 did not improve from 0.73698\n",
      "Epoch 20/100\n",
      "42/42 [==============================] - 20s 484ms/step - loss: 0.0114 - accuracy: 0.8174 - f1: 0.9918 - val_loss: 1.2778 - val_accuracy: 0.5344 - val_f1: 0.5888\n",
      "\n",
      "Epoch 00020: val_f1 did not improve from 0.73698\n",
      "\n",
      "Epoch 00020: ReduceLROnPlateau reducing learning rate to 0.00010000000474974513.\n",
      "Epoch 21/100\n",
      "42/42 [==============================] - 20s 481ms/step - loss: 0.0131 - accuracy: 0.8101 - f1: 0.9902 - val_loss: 0.4406 - val_accuracy: 0.6750 - val_f1: 0.7704\n",
      "\n",
      "Epoch 00021: val_f1 improved from 0.73698 to 0.77039, saving model to inception_model.h5\n",
      "Epoch 22/100\n",
      "42/42 [==============================] - 20s 483ms/step - loss: 0.0025 - accuracy: 0.8298 - f1: 0.9988 - val_loss: 0.3600 - val_accuracy: 0.6859 - val_f1: 0.8041\n",
      "\n",
      "Epoch 00022: val_f1 improved from 0.77039 to 0.80410, saving model to inception_model.h5\n",
      "Epoch 23/100\n",
      "42/42 [==============================] - 21s 487ms/step - loss: 0.0027 - accuracy: 0.8254 - f1: 0.9987 - val_loss: 0.3328 - val_accuracy: 0.6875 - val_f1: 0.8161\n",
      "\n",
      "Epoch 00023: val_f1 improved from 0.80410 to 0.81614, saving model to inception_model.h5\n",
      "Epoch 24/100\n",
      "42/42 [==============================] - 20s 472ms/step - loss: 0.0018 - accuracy: 0.8272 - f1: 0.9999 - val_loss: 0.3317 - val_accuracy: 0.6922 - val_f1: 0.8221\n",
      "\n",
      "Epoch 00024: val_f1 improved from 0.81614 to 0.82210, saving model to inception_model.h5\n",
      "Epoch 25/100\n",
      "42/42 [==============================] - 20s 476ms/step - loss: 0.0011 - accuracy: 0.8386 - f1: 1.0000 - val_loss: 0.3247 - val_accuracy: 0.6875 - val_f1: 0.8262\n",
      "\n",
      "Epoch 00025: val_f1 improved from 0.82210 to 0.82619, saving model to inception_model.h5\n",
      "Epoch 26/100\n",
      "42/42 [==============================] - 20s 483ms/step - loss: 8.5943e-04 - accuracy: 0.8252 - f1: 1.0000 - val_loss: 0.3226 - val_accuracy: 0.6906 - val_f1: 0.8245\n",
      "\n",
      "Epoch 00026: val_f1 did not improve from 0.82619\n",
      "Epoch 27/100\n",
      "42/42 [==============================] - 20s 474ms/step - loss: 9.9874e-04 - accuracy: 0.8424 - f1: 1.0000 - val_loss: 0.3277 - val_accuracy: 0.6938 - val_f1: 0.8213\n",
      "\n",
      "Epoch 00027: val_f1 did not improve from 0.82619\n",
      "Epoch 28/100\n",
      "42/42 [==============================] - 20s 484ms/step - loss: 7.3240e-04 - accuracy: 0.8328 - f1: 1.0000 - val_loss: 0.3279 - val_accuracy: 0.6938 - val_f1: 0.8223\n",
      "\n",
      "Epoch 00028: val_f1 did not improve from 0.82619\n",
      "Epoch 29/100\n",
      "42/42 [==============================] - 20s 475ms/step - loss: 8.7546e-04 - accuracy: 0.8281 - f1: 1.0000 - val_loss: 0.3291 - val_accuracy: 0.6984 - val_f1: 0.8216\n",
      "\n",
      "Epoch 00029: val_f1 did not improve from 0.82619\n",
      "Epoch 30/100\n",
      "42/42 [==============================] - 20s 485ms/step - loss: 6.9407e-04 - accuracy: 0.8421 - f1: 1.0000 - val_loss: 0.3308 - val_accuracy: 0.6984 - val_f1: 0.8210\n",
      "\n",
      "Epoch 00030: val_f1 did not improve from 0.82619\n",
      "\n",
      "Epoch 00030: ReduceLROnPlateau reducing learning rate to 1.0000000474974514e-05.\n",
      "Epoch 31/100\n",
      "42/42 [==============================] - 20s 479ms/step - loss: 7.1361e-04 - accuracy: 0.8414 - f1: 0.9998 - val_loss: 0.3310 - val_accuracy: 0.6953 - val_f1: 0.8225\n",
      "\n",
      "Epoch 00031: val_f1 did not improve from 0.82619\n",
      "Epoch 32/100\n",
      "42/42 [==============================] - 20s 475ms/step - loss: 5.7754e-04 - accuracy: 0.8243 - f1: 0.9999 - val_loss: 0.3310 - val_accuracy: 0.6969 - val_f1: 0.8237\n",
      "\n",
      "Epoch 00032: val_f1 did not improve from 0.82619\n",
      "Epoch 33/100\n",
      "42/42 [==============================] - 20s 482ms/step - loss: 6.1249e-04 - accuracy: 0.8169 - f1: 1.0000 - val_loss: 0.3306 - val_accuracy: 0.6969 - val_f1: 0.8248\n",
      "\n",
      "Epoch 00033: val_f1 did not improve from 0.82619\n",
      "Epoch 34/100\n",
      "42/42 [==============================] - 21s 489ms/step - loss: 6.8952e-04 - accuracy: 0.8231 - f1: 1.0000 - val_loss: 0.3313 - val_accuracy: 0.6953 - val_f1: 0.8241\n",
      "\n",
      "Epoch 00034: val_f1 did not improve from 0.82619\n",
      "Epoch 35/100\n",
      "42/42 [==============================] - 20s 475ms/step - loss: 5.3924e-04 - accuracy: 0.8490 - f1: 1.0000 - val_loss: 0.3317 - val_accuracy: 0.6953 - val_f1: 0.8252\n",
      "\n",
      "Epoch 00035: val_f1 did not improve from 0.82619\n",
      "\n",
      "Epoch 00035: ReduceLROnPlateau reducing learning rate to 1.0000000656873453e-06.\n",
      "Epoch 36/100\n",
      "42/42 [==============================] - 20s 485ms/step - loss: 6.5355e-04 - accuracy: 0.8307 - f1: 1.0000 - val_loss: 0.3328 - val_accuracy: 0.6953 - val_f1: 0.8252\n",
      "\n",
      "Epoch 00036: val_f1 did not improve from 0.82619\n",
      "Epoch 37/100\n",
      "42/42 [==============================] - 20s 467ms/step - loss: 5.0126e-04 - accuracy: 0.8251 - f1: 1.0000 - val_loss: 0.3332 - val_accuracy: 0.6953 - val_f1: 0.8248\n",
      "\n",
      "Epoch 00037: val_f1 did not improve from 0.82619\n",
      "Epoch 38/100\n",
      "42/42 [==============================] - 20s 477ms/step - loss: 7.3193e-04 - accuracy: 0.8167 - f1: 1.0000 - val_loss: 0.3334 - val_accuracy: 0.6953 - val_f1: 0.8248\n",
      "\n",
      "Epoch 00038: val_f1 did not improve from 0.82619\n",
      "Epoch 39/100\n",
      "42/42 [==============================] - 20s 480ms/step - loss: 6.2240e-04 - accuracy: 0.8354 - f1: 1.0000 - val_loss: 0.3331 - val_accuracy: 0.6953 - val_f1: 0.8260\n",
      "\n",
      "Epoch 00039: val_f1 did not improve from 0.82619\n",
      "Epoch 40/100\n",
      "42/42 [==============================] - 20s 473ms/step - loss: 5.9495e-04 - accuracy: 0.8197 - f1: 1.0000 - val_loss: 0.3331 - val_accuracy: 0.6953 - val_f1: 0.8258\n",
      "\n",
      "Epoch 00040: val_f1 did not improve from 0.82619\n",
      "\n",
      "Epoch 00040: ReduceLROnPlateau reducing learning rate to 1.0000001111620805e-07.\n",
      "Epoch 41/100\n",
      "42/42 [==============================] - 20s 484ms/step - loss: 8.0578e-04 - accuracy: 0.8333 - f1: 1.0000 - val_loss: 0.3329 - val_accuracy: 0.6953 - val_f1: 0.8256\n",
      "\n",
      "Epoch 00041: val_f1 did not improve from 0.82619\n",
      "Epoch 42/100\n",
      "42/42 [==============================] - 20s 485ms/step - loss: 5.8465e-04 - accuracy: 0.8308 - f1: 1.0000 - val_loss: 0.3326 - val_accuracy: 0.6953 - val_f1: 0.8254\n",
      "\n",
      "Epoch 00042: val_f1 did not improve from 0.82619\n",
      "Epoch 43/100\n",
      "42/42 [==============================] - 20s 467ms/step - loss: 5.0683e-04 - accuracy: 0.8404 - f1: 1.0000 - val_loss: 0.3325 - val_accuracy: 0.6953 - val_f1: 0.8254\n",
      "\n",
      "Epoch 00043: val_f1 did not improve from 0.82619\n",
      "Epoch 44/100\n",
      "42/42 [==============================] - 20s 480ms/step - loss: 5.3335e-04 - accuracy: 0.8318 - f1: 1.0000 - val_loss: 0.3324 - val_accuracy: 0.6953 - val_f1: 0.8252\n",
      "\n",
      "Epoch 00044: val_f1 did not improve from 0.82619\n",
      "Epoch 45/100\n",
      "42/42 [==============================] - 20s 472ms/step - loss: 5.7564e-04 - accuracy: 0.8252 - f1: 1.0000 - val_loss: 0.3325 - val_accuracy: 0.6953 - val_f1: 0.8260\n",
      "\n",
      "Epoch 00045: val_f1 did not improve from 0.82619\n",
      "\n",
      "Epoch 00045: ReduceLROnPlateau reducing learning rate to 1.000000082740371e-08.\n",
      "Epoch 46/100\n",
      "42/42 [==============================] - 20s 479ms/step - loss: 6.2849e-04 - accuracy: 0.8334 - f1: 1.0000 - val_loss: 0.3328 - val_accuracy: 0.6953 - val_f1: 0.8254\n",
      "\n",
      "Epoch 00046: val_f1 did not improve from 0.82619\n",
      "Epoch 47/100\n",
      "42/42 [==============================] - 20s 482ms/step - loss: 5.8892e-04 - accuracy: 0.8336 - f1: 1.0000 - val_loss: 0.3329 - val_accuracy: 0.6953 - val_f1: 0.8245\n",
      "\n",
      "Epoch 00047: val_f1 did not improve from 0.82619\n",
      "Epoch 48/100\n",
      "42/42 [==============================] - 20s 474ms/step - loss: 5.0975e-04 - accuracy: 0.8154 - f1: 1.0000 - val_loss: 0.3325 - val_accuracy: 0.6953 - val_f1: 0.8252\n",
      "\n",
      "Epoch 00048: val_f1 did not improve from 0.82619\n",
      "Epoch 49/100\n",
      "42/42 [==============================] - 20s 477ms/step - loss: 6.9589e-04 - accuracy: 0.8345 - f1: 0.9996 - val_loss: 0.3329 - val_accuracy: 0.6969 - val_f1: 0.8245\n",
      "\n",
      "Epoch 00049: val_f1 did not improve from 0.82619\n",
      "Epoch 50/100\n",
      "42/42 [==============================] - 20s 482ms/step - loss: 9.6773e-04 - accuracy: 0.8117 - f1: 0.9997 - val_loss: 0.3326 - val_accuracy: 0.6969 - val_f1: 0.8252\n",
      "\n",
      "Epoch 00050: val_f1 did not improve from 0.82619\n",
      "\n",
      "Epoch 00050: ReduceLROnPlateau reducing learning rate to 1e-08.\n",
      "Epoch 51/100\n",
      "42/42 [==============================] - 20s 471ms/step - loss: 5.6610e-04 - accuracy: 0.8363 - f1: 1.0000 - val_loss: 0.3321 - val_accuracy: 0.6984 - val_f1: 0.8252\n",
      "\n",
      "Epoch 00051: val_f1 did not improve from 0.82619\n",
      "Epoch 52/100\n",
      "42/42 [==============================] - 20s 480ms/step - loss: 7.3725e-04 - accuracy: 0.8359 - f1: 1.0000 - val_loss: 0.3324 - val_accuracy: 0.6953 - val_f1: 0.8251\n",
      "\n",
      "Epoch 00052: val_f1 did not improve from 0.82619\n",
      "Epoch 53/100\n",
      "42/42 [==============================] - 20s 469ms/step - loss: 7.5766e-04 - accuracy: 0.8473 - f1: 0.9996 - val_loss: 0.3328 - val_accuracy: 0.6953 - val_f1: 0.8251\n",
      "\n",
      "Epoch 00053: val_f1 did not improve from 0.82619\n",
      "Epoch 54/100\n",
      "42/42 [==============================] - 20s 478ms/step - loss: 6.7382e-04 - accuracy: 0.8391 - f1: 1.0000 - val_loss: 0.3329 - val_accuracy: 0.6953 - val_f1: 0.8258\n",
      "\n",
      "Epoch 00054: val_f1 did not improve from 0.82619\n",
      "Epoch 55/100\n",
      "42/42 [==============================] - 20s 465ms/step - loss: 6.4251e-04 - accuracy: 0.8253 - f1: 0.9999 - val_loss: 0.3328 - val_accuracy: 0.6953 - val_f1: 0.8253\n",
      "\n",
      "Epoch 00055: val_f1 did not improve from 0.82619\n",
      "Epoch 56/100\n",
      "42/42 [==============================] - 20s 484ms/step - loss: 9.6748e-04 - accuracy: 0.8349 - f1: 0.9997 - val_loss: 0.3331 - val_accuracy: 0.6969 - val_f1: 0.8260\n",
      "\n",
      "Epoch 00056: val_f1 did not improve from 0.82619\n",
      "Epoch 57/100\n",
      "42/42 [==============================] - 20s 481ms/step - loss: 9.1075e-04 - accuracy: 0.8343 - f1: 1.0000 - val_loss: 0.3335 - val_accuracy: 0.6953 - val_f1: 0.8265\n",
      "\n",
      "Epoch 00057: val_f1 improved from 0.82619 to 0.82647, saving model to inception_model.h5\n",
      "Epoch 58/100\n",
      "42/42 [==============================] - 20s 467ms/step - loss: 5.2788e-04 - accuracy: 0.8235 - f1: 1.0000 - val_loss: 0.3336 - val_accuracy: 0.6953 - val_f1: 0.8256\n",
      "\n",
      "Epoch 00058: val_f1 did not improve from 0.82647\n",
      "Epoch 59/100\n",
      "42/42 [==============================] - 20s 479ms/step - loss: 5.6753e-04 - accuracy: 0.8388 - f1: 1.0000 - val_loss: 0.3336 - val_accuracy: 0.6953 - val_f1: 0.8261\n",
      "\n",
      "Epoch 00059: val_f1 did not improve from 0.82647\n",
      "Epoch 60/100\n",
      "42/42 [==============================] - 20s 471ms/step - loss: 5.8056e-04 - accuracy: 0.8264 - f1: 1.0000 - val_loss: 0.3328 - val_accuracy: 0.6969 - val_f1: 0.8258\n",
      "\n",
      "Epoch 00060: val_f1 did not improve from 0.82647\n",
      "Epoch 61/100\n",
      "42/42 [==============================] - 20s 477ms/step - loss: 5.3208e-04 - accuracy: 0.8268 - f1: 1.0000 - val_loss: 0.3325 - val_accuracy: 0.6969 - val_f1: 0.8251\n",
      "\n",
      "Epoch 00061: val_f1 did not improve from 0.82647\n",
      "Epoch 62/100\n",
      "42/42 [==============================] - 20s 478ms/step - loss: 6.7466e-04 - accuracy: 0.8388 - f1: 1.0000 - val_loss: 0.3330 - val_accuracy: 0.6953 - val_f1: 0.8265\n",
      "\n",
      "Epoch 00062: val_f1 did not improve from 0.82647\n",
      "Epoch 63/100\n",
      "42/42 [==============================] - 20s 470ms/step - loss: 5.8820e-04 - accuracy: 0.8284 - f1: 0.9999 - val_loss: 0.3331 - val_accuracy: 0.6953 - val_f1: 0.8250\n",
      "\n",
      "Epoch 00063: val_f1 did not improve from 0.82647\n",
      "Epoch 64/100\n",
      "42/42 [==============================] - 20s 482ms/step - loss: 5.0940e-04 - accuracy: 0.8324 - f1: 1.0000 - val_loss: 0.3332 - val_accuracy: 0.6953 - val_f1: 0.8260\n",
      "\n",
      "Epoch 00064: val_f1 did not improve from 0.82647\n",
      "Epoch 65/100\n",
      "42/42 [==============================] - 20s 486ms/step - loss: 8.6752e-04 - accuracy: 0.8363 - f1: 0.9997 - val_loss: 0.3333 - val_accuracy: 0.6953 - val_f1: 0.8260\n",
      "\n",
      "Epoch 00065: val_f1 did not improve from 0.82647\n",
      "Epoch 66/100\n",
      "42/42 [==============================] - 20s 469ms/step - loss: 9.3692e-04 - accuracy: 0.8401 - f1: 0.9998 - val_loss: 0.3336 - val_accuracy: 0.6953 - val_f1: 0.8256\n",
      "\n",
      "Epoch 00066: val_f1 did not improve from 0.82647\n",
      "Epoch 67/100\n",
      "42/42 [==============================] - 20s 472ms/step - loss: 5.9318e-04 - accuracy: 0.8348 - f1: 1.0000 - val_loss: 0.3332 - val_accuracy: 0.6953 - val_f1: 0.8256\n",
      "\n",
      "Epoch 00067: val_f1 did not improve from 0.82647\n",
      "Epoch 68/100\n",
      "42/42 [==============================] - 20s 473ms/step - loss: 4.9361e-04 - accuracy: 0.8381 - f1: 1.0000 - val_loss: 0.3329 - val_accuracy: 0.6953 - val_f1: 0.8255\n",
      "\n",
      "Epoch 00068: val_f1 did not improve from 0.82647\n",
      "Epoch 69/100\n",
      "42/42 [==============================] - 20s 479ms/step - loss: 5.5847e-04 - accuracy: 0.8340 - f1: 0.9999 - val_loss: 0.3329 - val_accuracy: 0.6953 - val_f1: 0.8252\n",
      "\n",
      "Epoch 00069: val_f1 did not improve from 0.82647\n",
      "Epoch 70/100\n",
      "42/42 [==============================] - 20s 478ms/step - loss: 4.8685e-04 - accuracy: 0.8240 - f1: 1.0000 - val_loss: 0.3331 - val_accuracy: 0.6953 - val_f1: 0.8260\n",
      "\n",
      "Epoch 00070: val_f1 did not improve from 0.82647\n",
      "Epoch 71/100\n",
      "42/42 [==============================] - 20s 469ms/step - loss: 5.7026e-04 - accuracy: 0.8294 - f1: 1.0000 - val_loss: 0.3334 - val_accuracy: 0.6953 - val_f1: 0.8260\n",
      "\n",
      "Epoch 00071: val_f1 did not improve from 0.82647\n",
      "Epoch 72/100\n",
      "42/42 [==============================] - 20s 478ms/step - loss: 6.2264e-04 - accuracy: 0.8290 - f1: 1.0000 - val_loss: 0.3332 - val_accuracy: 0.6953 - val_f1: 0.8265\n",
      "\n",
      "Epoch 00072: val_f1 did not improve from 0.82647\n",
      "Epoch 73/100\n",
      "42/42 [==============================] - 20s 468ms/step - loss: 8.4400e-04 - accuracy: 0.8362 - f1: 1.0000 - val_loss: 0.3333 - val_accuracy: 0.6953 - val_f1: 0.8258\n",
      "\n",
      "Epoch 00073: val_f1 did not improve from 0.82647\n",
      "Epoch 74/100\n",
      "42/42 [==============================] - 20s 476ms/step - loss: 0.0013 - accuracy: 0.8239 - f1: 0.9992 - val_loss: 0.3335 - val_accuracy: 0.6953 - val_f1: 0.8265\n",
      "\n",
      "Epoch 00074: val_f1 did not improve from 0.82647\n",
      "Epoch 75/100\n",
      "42/42 [==============================] - 20s 484ms/step - loss: 5.7015e-04 - accuracy: 0.8337 - f1: 1.0000 - val_loss: 0.3332 - val_accuracy: 0.6953 - val_f1: 0.8258\n",
      "\n",
      "Epoch 00075: val_f1 did not improve from 0.82647\n",
      "Epoch 76/100\n",
      "42/42 [==============================] - 20s 470ms/step - loss: 6.0692e-04 - accuracy: 0.8445 - f1: 1.0000 - val_loss: 0.3331 - val_accuracy: 0.6953 - val_f1: 0.8254\n",
      "\n",
      "Epoch 00076: val_f1 did not improve from 0.82647\n",
      "Epoch 77/100\n",
      "42/42 [==============================] - 20s 478ms/step - loss: 4.8728e-04 - accuracy: 0.8340 - f1: 1.0000 - val_loss: 0.3330 - val_accuracy: 0.6953 - val_f1: 0.8260\n",
      "\n",
      "Epoch 00077: val_f1 did not improve from 0.82647\n",
      "Epoch 78/100\n",
      "42/42 [==============================] - 20s 464ms/step - loss: 5.2789e-04 - accuracy: 0.8419 - f1: 1.0000 - val_loss: 0.3332 - val_accuracy: 0.6953 - val_f1: 0.8254\n",
      "\n",
      "Epoch 00078: val_f1 did not improve from 0.82647\n",
      "Epoch 79/100\n",
      "42/42 [==============================] - 20s 477ms/step - loss: 5.1345e-04 - accuracy: 0.8412 - f1: 1.0000 - val_loss: 0.3336 - val_accuracy: 0.6953 - val_f1: 0.8252\n",
      "\n",
      "Epoch 00079: val_f1 did not improve from 0.82647\n",
      "Epoch 80/100\n",
      "42/42 [==============================] - 20s 484ms/step - loss: 5.4745e-04 - accuracy: 0.8503 - f1: 1.0000 - val_loss: 0.3337 - val_accuracy: 0.6953 - val_f1: 0.8258\n",
      "\n",
      "Epoch 00080: val_f1 did not improve from 0.82647\n",
      "Epoch 81/100\n",
      "42/42 [==============================] - 20s 468ms/step - loss: 5.3734e-04 - accuracy: 0.8429 - f1: 0.9999 - val_loss: 0.3333 - val_accuracy: 0.6953 - val_f1: 0.8258\n",
      "\n",
      "Epoch 00081: val_f1 did not improve from 0.82647\n",
      "Epoch 82/100\n",
      "42/42 [==============================] - 20s 480ms/step - loss: 6.3708e-04 - accuracy: 0.8252 - f1: 0.9999 - val_loss: 0.3331 - val_accuracy: 0.6953 - val_f1: 0.8258\n",
      "\n",
      "Epoch 00082: val_f1 did not improve from 0.82647\n",
      "Epoch 83/100\n",
      "42/42 [==============================] - 20s 482ms/step - loss: 4.7191e-04 - accuracy: 0.8302 - f1: 1.0000 - val_loss: 0.3328 - val_accuracy: 0.6953 - val_f1: 0.8260\n",
      "\n",
      "Epoch 00083: val_f1 did not improve from 0.82647\n",
      "Epoch 84/100\n",
      "42/42 [==============================] - 20s 466ms/step - loss: 4.3251e-04 - accuracy: 0.8482 - f1: 1.0000 - val_loss: 0.3325 - val_accuracy: 0.6969 - val_f1: 0.8260\n",
      "\n",
      "Epoch 00084: val_f1 did not improve from 0.82647\n",
      "Epoch 85/100\n",
      "42/42 [==============================] - 20s 480ms/step - loss: 6.3987e-04 - accuracy: 0.8447 - f1: 1.0000 - val_loss: 0.3324 - val_accuracy: 0.6953 - val_f1: 0.8263\n",
      "\n",
      "Epoch 00085: val_f1 did not improve from 0.82647\n",
      "Epoch 86/100\n",
      "42/42 [==============================] - 20s 470ms/step - loss: 5.9931e-04 - accuracy: 0.8233 - f1: 1.0000 - val_loss: 0.3327 - val_accuracy: 0.6953 - val_f1: 0.8256\n",
      "\n",
      "Epoch 00086: val_f1 did not improve from 0.82647\n",
      "Epoch 87/100\n",
      "42/42 [==============================] - 20s 479ms/step - loss: 5.8043e-04 - accuracy: 0.8355 - f1: 1.0000 - val_loss: 0.3333 - val_accuracy: 0.6953 - val_f1: 0.8256\n",
      "\n",
      "Epoch 00087: val_f1 did not improve from 0.82647\n",
      "Epoch 88/100\n",
      "42/42 [==============================] - 20s 483ms/step - loss: 4.9096e-04 - accuracy: 0.8393 - f1: 1.0000 - val_loss: 0.3324 - val_accuracy: 0.6953 - val_f1: 0.8272\n",
      "\n",
      "Epoch 00088: val_f1 improved from 0.82647 to 0.82716, saving model to inception_model.h5\n",
      "Epoch 89/100\n",
      "42/42 [==============================] - 20s 465ms/step - loss: 5.4361e-04 - accuracy: 0.8294 - f1: 1.0000 - val_loss: 0.3325 - val_accuracy: 0.6953 - val_f1: 0.8258\n",
      "\n",
      "Epoch 00089: val_f1 did not improve from 0.82716\n",
      "Epoch 90/100\n",
      "42/42 [==============================] - 20s 473ms/step - loss: 6.7947e-04 - accuracy: 0.8178 - f1: 1.0000 - val_loss: 0.3327 - val_accuracy: 0.6953 - val_f1: 0.8258\n",
      "\n",
      "Epoch 00090: val_f1 did not improve from 0.82716\n",
      "Epoch 91/100\n",
      "42/42 [==============================] - 20s 468ms/step - loss: 5.5270e-04 - accuracy: 0.8390 - f1: 1.0000 - val_loss: 0.3331 - val_accuracy: 0.6953 - val_f1: 0.8261\n",
      "\n",
      "Epoch 00091: val_f1 did not improve from 0.82716\n",
      "Epoch 92/100\n",
      "42/42 [==============================] - 20s 486ms/step - loss: 6.8879e-04 - accuracy: 0.8342 - f1: 0.9999 - val_loss: 0.3327 - val_accuracy: 0.6953 - val_f1: 0.8261\n",
      "\n",
      "Epoch 00092: val_f1 did not improve from 0.82716\n",
      "Epoch 93/100\n",
      "42/42 [==============================] - 20s 486ms/step - loss: 6.6189e-04 - accuracy: 0.8240 - f1: 1.0000 - val_loss: 0.3330 - val_accuracy: 0.6953 - val_f1: 0.8260\n",
      "\n",
      "Epoch 00093: val_f1 did not improve from 0.82716\n",
      "Epoch 94/100\n",
      "42/42 [==============================] - 20s 469ms/step - loss: 4.9018e-04 - accuracy: 0.8228 - f1: 1.0000 - val_loss: 0.3328 - val_accuracy: 0.6953 - val_f1: 0.8267\n",
      "\n",
      "Epoch 00094: val_f1 did not improve from 0.82716\n",
      "Epoch 95/100\n",
      "42/42 [==============================] - 20s 473ms/step - loss: 4.9389e-04 - accuracy: 0.8356 - f1: 1.0000 - val_loss: 0.3326 - val_accuracy: 0.6953 - val_f1: 0.8267\n",
      "\n",
      "Epoch 00095: val_f1 did not improve from 0.82716\n",
      "Epoch 96/100\n",
      "42/42 [==============================] - 20s 469ms/step - loss: 6.6955e-04 - accuracy: 0.8347 - f1: 1.0000 - val_loss: 0.3326 - val_accuracy: 0.6953 - val_f1: 0.8259\n",
      "\n",
      "Epoch 00096: val_f1 did not improve from 0.82716\n",
      "Epoch 97/100\n",
      "42/42 [==============================] - 20s 479ms/step - loss: 5.7420e-04 - accuracy: 0.8352 - f1: 1.0000 - val_loss: 0.3327 - val_accuracy: 0.6953 - val_f1: 0.8267\n",
      "\n",
      "Epoch 00097: val_f1 did not improve from 0.82716\n",
      "Epoch 98/100\n",
      "42/42 [==============================] - 20s 481ms/step - loss: 6.3843e-04 - accuracy: 0.8539 - f1: 1.0000 - val_loss: 0.3326 - val_accuracy: 0.6969 - val_f1: 0.8247\n",
      "\n",
      "Epoch 00098: val_f1 did not improve from 0.82716\n",
      "Epoch 99/100\n",
      "42/42 [==============================] - 20s 475ms/step - loss: 4.6975e-04 - accuracy: 0.8317 - f1: 1.0000 - val_loss: 0.3330 - val_accuracy: 0.6953 - val_f1: 0.8252\n",
      "\n",
      "Epoch 00099: val_f1 did not improve from 0.82716\n",
      "Epoch 100/100\n",
      "42/42 [==============================] - 20s 481ms/step - loss: 6.2063e-04 - accuracy: 0.8411 - f1: 1.0000 - val_loss: 0.3328 - val_accuracy: 0.6953 - val_f1: 0.8247\n",
      "\n",
      "Epoch 00100: val_f1 did not improve from 0.82716\n"
     ]
    }
   ],
   "source": [
    "inception_history = inception_model.fit_generator(train_gen,\n",
    "                                  steps_per_epoch=steps_per_epoch,\n",
    "                                  epochs= MAX_EPOCHS,\n",
    "                                  verbose=1,\n",
    "                                  validation_data=val_gen,\n",
    "                                  validation_steps=validation_steps,\n",
    "                                  callbacks=callbacks\n",
    "                             )"
   ]
  },
  {
   "cell_type": "code",
   "execution_count": 33,
   "metadata": {
    "_cell_guid": "2aa7610f-d2f1-4c1f-9c8a-0026af663b9a",
    "_uuid": "857bb5d6-07aa-44b4-92ca-9411a23857a4",
    "execution": {
     "iopub.execute_input": "2021-12-07T16:32:31.989498Z",
     "iopub.status.busy": "2021-12-07T16:32:31.989241Z",
     "iopub.status.idle": "2021-12-07T16:32:32.882096Z",
     "shell.execute_reply": "2021-12-07T16:32:32.881290Z",
     "shell.execute_reply.started": "2021-12-07T16:32:31.989471Z"
    },
    "jupyter": {
     "outputs_hidden": false
    }
   },
   "outputs": [],
   "source": [
    "inception_model.save(os.path.join(\"./\",\"final_inception_v3_model.h5\"))"
   ]
  },
  {
   "cell_type": "code",
   "execution_count": 34,
   "metadata": {
    "_cell_guid": "e0a67651-685c-4ec3-b03f-8ccb876427bc",
    "_uuid": "ae5bf22b-723c-4f77-b73d-296a076d2021",
    "execution": {
     "iopub.execute_input": "2021-12-07T16:33:23.862928Z",
     "iopub.status.busy": "2021-12-07T16:33:23.862490Z",
     "iopub.status.idle": "2021-12-07T16:33:28.405010Z",
     "shell.execute_reply": "2021-12-07T16:33:28.404291Z",
     "shell.execute_reply.started": "2021-12-07T16:33:23.862892Z"
    },
    "jupyter": {
     "outputs_hidden": false
    }
   },
   "outputs": [
    {
     "name": "stdout",
     "output_type": "stream",
     "text": [
      "11/11 [==============================] - 4s 383ms/step - loss: 0.3373 - accuracy: 0.6900 - f1: 0.8245\n"
     ]
    },
    {
     "data": {
      "text/plain": [
       "[0.3373069167137146, 0.6899563074111938, 0.8245014548301697]"
      ]
     },
     "execution_count": 34,
     "metadata": {},
     "output_type": "execute_result"
    }
   ],
   "source": [
    "inception_model.evaluate(val_gen,batch_size=20)"
   ]
  },
  {
   "cell_type": "code",
   "execution_count": 35,
   "metadata": {
    "execution": {
     "iopub.execute_input": "2021-12-07T16:33:38.339078Z",
     "iopub.status.busy": "2021-12-07T16:33:38.338505Z",
     "iopub.status.idle": "2021-12-07T16:33:40.617720Z",
     "shell.execute_reply": "2021-12-07T16:33:40.616974Z",
     "shell.execute_reply.started": "2021-12-07T16:33:38.339044Z"
    }
   },
   "outputs": [
    {
     "name": "stdout",
     "output_type": "stream",
     "text": [
      "Downloading data from https://storage.googleapis.com/keras-applications/efficientnetb0_notop.h5\n",
      "16711680/16705208 [==============================] - 0s 0us/step\n"
     ]
    }
   ],
   "source": [
    "inputs = Input(shape=(IMAGE_SIZE,IMAGE_SIZE,3))\n",
    "efficient_layers = tf.keras.applications.EfficientNetB0(weights='imagenet', \n",
    "                                              include_top=False,input_shape=(IMAGE_SIZE,IMAGE_SIZE,3))(inputs)\n",
    "avg_layer = AveragePooling2D(pool_size=(7, 7), strides=(1, 1), padding='valid')(efficient_layers)\n",
    "flat = Flatten()(avg_layer)\n",
    "outputs = Dense(7, activation='sigmoid')(flat)\n",
    "\n",
    "efficient_model = Model(inputs=inputs, outputs=outputs, name=\"EfficientNetB0_model\")"
   ]
  },
  {
   "cell_type": "code",
   "execution_count": 36,
   "metadata": {
    "execution": {
     "iopub.execute_input": "2021-12-07T16:33:44.212117Z",
     "iopub.status.busy": "2021-12-07T16:33:44.211577Z",
     "iopub.status.idle": "2021-12-07T16:33:44.268094Z",
     "shell.execute_reply": "2021-12-07T16:33:44.265006Z",
     "shell.execute_reply.started": "2021-12-07T16:33:44.212074Z"
    }
   },
   "outputs": [
    {
     "name": "stdout",
     "output_type": "stream",
     "text": [
      "Model: \"EfficientNetB0_model\"\n",
      "_________________________________________________________________\n",
      "Layer (type)                 Output Shape              Param #   \n",
      "=================================================================\n",
      "input_11 (InputLayer)        [(None, 224, 224, 3)]     0         \n",
      "_________________________________________________________________\n",
      "efficientnetb0 (Functional)  (None, 7, 7, 1280)        4049571   \n",
      "_________________________________________________________________\n",
      "average_pooling2d_50 (Averag (None, 3, 3, 1280)        0         \n",
      "_________________________________________________________________\n",
      "flatten_5 (Flatten)          (None, 11520)             0         \n",
      "_________________________________________________________________\n",
      "dense_5 (Dense)              (None, 7)                 80647     \n",
      "=================================================================\n",
      "Total params: 4,130,218\n",
      "Trainable params: 4,088,195\n",
      "Non-trainable params: 42,023\n",
      "_________________________________________________________________\n"
     ]
    }
   ],
   "source": [
    "efficient_model.compile(optimizer=keras.optimizers.Adam(lr=LEARNING_RATE), \n",
    "              loss='binary_crossentropy', \n",
    "              metrics=['accuracy',f1,CohenKappa(num_classes=7)])\n",
    "efficient_model.summary()"
   ]
  },
  {
   "cell_type": "code",
   "execution_count": 37,
   "metadata": {
    "execution": {
     "iopub.execute_input": "2021-12-07T16:33:49.137285Z",
     "iopub.status.busy": "2021-12-07T16:33:49.136577Z",
     "iopub.status.idle": "2021-12-07T16:33:49.144015Z",
     "shell.execute_reply": "2021-12-07T16:33:49.141582Z",
     "shell.execute_reply.started": "2021-12-07T16:33:49.137251Z"
    }
   },
   "outputs": [],
   "source": [
    "eff_mcp = keras.callbacks.ModelCheckpoint(\"efficient_model.h5\", monitor=\"val_f1\", save_best_only=True, save_weights_only=True, verbose=1,mode='max')\n",
    "eff_rlr = keras.callbacks.ReduceLROnPlateau(monitor='val_f1', factor=LEARNING_RATE_SCHEDULE_FACTOR, mode='max', patience=LEARNING_RATE_SCHEDULE_PATIENCE, min_lr=1e-8, verbose=1)\n",
    "efficient_callbacks = [eff_mcp, eff_rlr]"
   ]
  },
  {
   "cell_type": "code",
   "execution_count": 38,
   "metadata": {
    "execution": {
     "iopub.execute_input": "2021-12-07T16:33:57.113109Z",
     "iopub.status.busy": "2021-12-07T16:33:57.112269Z",
     "iopub.status.idle": "2021-12-07T17:12:02.167817Z",
     "shell.execute_reply": "2021-12-07T17:12:02.167094Z",
     "shell.execute_reply.started": "2021-12-07T16:33:57.113066Z"
    }
   },
   "outputs": [
    {
     "name": "stdout",
     "output_type": "stream",
     "text": [
      "Epoch 1/100\n",
      "42/42 [==============================] - 33s 590ms/step - loss: 0.4384 - accuracy: 0.3752 - f1: 0.4334 - val_loss: 0.7756 - val_accuracy: 0.2125 - val_f1: 0.2124\n",
      "\n",
      "Epoch 00001: val_f1 improved from -inf to 0.21244, saving model to efficient_model.h5\n",
      "Epoch 2/100\n",
      "42/42 [==============================] - 23s 534ms/step - loss: 0.2748 - accuracy: 0.6000 - f1: 0.7095 - val_loss: 0.6766 - val_accuracy: 0.2141 - val_f1: 0.3799\n",
      "\n",
      "Epoch 00002: val_f1 improved from 0.21244 to 0.37993, saving model to efficient_model.h5\n",
      "Epoch 3/100\n",
      "42/42 [==============================] - 23s 533ms/step - loss: 0.1848 - accuracy: 0.7211 - f1: 0.8039 - val_loss: 0.8516 - val_accuracy: 0.0578 - val_f1: 0.2694\n",
      "\n",
      "Epoch 00003: val_f1 did not improve from 0.37993\n",
      "Epoch 4/100\n",
      "42/42 [==============================] - 22s 527ms/step - loss: 0.1332 - accuracy: 0.7730 - f1: 0.8693 - val_loss: 0.7901 - val_accuracy: 0.2125 - val_f1: 0.3423\n",
      "\n",
      "Epoch 00004: val_f1 did not improve from 0.37993\n",
      "Epoch 5/100\n",
      "42/42 [==============================] - 23s 536ms/step - loss: 0.0944 - accuracy: 0.8126 - f1: 0.9032 - val_loss: 0.7967 - val_accuracy: 0.1594 - val_f1: 0.3812\n",
      "\n",
      "Epoch 00005: val_f1 improved from 0.37993 to 0.38122, saving model to efficient_model.h5\n",
      "Epoch 6/100\n",
      "42/42 [==============================] - 23s 533ms/step - loss: 0.0728 - accuracy: 0.8269 - f1: 0.9361 - val_loss: 0.7659 - val_accuracy: 0.2125 - val_f1: 0.3734\n",
      "\n",
      "Epoch 00006: val_f1 did not improve from 0.38122\n",
      "Epoch 7/100\n",
      "42/42 [==============================] - 23s 535ms/step - loss: 0.0648 - accuracy: 0.8319 - f1: 0.9434 - val_loss: 0.6305 - val_accuracy: 0.2125 - val_f1: 0.1749\n",
      "\n",
      "Epoch 00007: val_f1 did not improve from 0.38122\n",
      "Epoch 8/100\n",
      "42/42 [==============================] - 22s 526ms/step - loss: 0.0363 - accuracy: 0.8299 - f1: 0.9710 - val_loss: 0.6412 - val_accuracy: 0.1688 - val_f1: 0.2168\n",
      "\n",
      "Epoch 00008: val_f1 did not improve from 0.38122\n",
      "Epoch 9/100\n",
      "42/42 [==============================] - 23s 540ms/step - loss: 0.0318 - accuracy: 0.8401 - f1: 0.9705 - val_loss: 0.7441 - val_accuracy: 0.2156 - val_f1: 0.3879\n",
      "\n",
      "Epoch 00009: val_f1 improved from 0.38122 to 0.38793, saving model to efficient_model.h5\n",
      "Epoch 10/100\n",
      "42/42 [==============================] - 23s 535ms/step - loss: 0.0363 - accuracy: 0.7988 - f1: 0.9677 - val_loss: 0.8239 - val_accuracy: 0.1516 - val_f1: 0.2382\n",
      "\n",
      "Epoch 00010: val_f1 did not improve from 0.38793\n",
      "Epoch 11/100\n",
      "42/42 [==============================] - 22s 525ms/step - loss: 0.0290 - accuracy: 0.8340 - f1: 0.9760 - val_loss: 1.1769 - val_accuracy: 0.1797 - val_f1: 0.3467\n",
      "\n",
      "Epoch 00011: val_f1 did not improve from 0.38793\n",
      "Epoch 12/100\n",
      "42/42 [==============================] - 23s 540ms/step - loss: 0.0344 - accuracy: 0.7998 - f1: 0.9711 - val_loss: 0.8667 - val_accuracy: 0.2156 - val_f1: 0.3754\n",
      "\n",
      "Epoch 00012: val_f1 did not improve from 0.38793\n",
      "Epoch 13/100\n",
      "42/42 [==============================] - 23s 534ms/step - loss: 0.0323 - accuracy: 0.8059 - f1: 0.9723 - val_loss: 0.6129 - val_accuracy: 0.2469 - val_f1: 0.3828\n",
      "\n",
      "Epoch 00013: val_f1 did not improve from 0.38793\n",
      "Epoch 14/100\n",
      "42/42 [==============================] - 22s 525ms/step - loss: 0.0247 - accuracy: 0.8398 - f1: 0.9793 - val_loss: 0.6187 - val_accuracy: 0.2156 - val_f1: 0.3611\n",
      "\n",
      "Epoch 00014: val_f1 did not improve from 0.38793\n",
      "\n",
      "Epoch 00014: ReduceLROnPlateau reducing learning rate to 0.00010000000474974513.\n",
      "Epoch 15/100\n",
      "42/42 [==============================] - 23s 543ms/step - loss: 0.0153 - accuracy: 0.8192 - f1: 0.9868 - val_loss: 0.5574 - val_accuracy: 0.3109 - val_f1: 0.3523\n",
      "\n",
      "Epoch 00015: val_f1 did not improve from 0.38793\n",
      "Epoch 16/100\n",
      "42/42 [==============================] - 23s 544ms/step - loss: 0.0060 - accuracy: 0.8254 - f1: 0.9957 - val_loss: 0.8133 - val_accuracy: 0.2641 - val_f1: 0.3528\n",
      "\n",
      "Epoch 00016: val_f1 did not improve from 0.38793\n",
      "Epoch 17/100\n",
      "42/42 [==============================] - 23s 537ms/step - loss: 0.0043 - accuracy: 0.8179 - f1: 0.9973 - val_loss: 0.6050 - val_accuracy: 0.3578 - val_f1: 0.4693\n",
      "\n",
      "Epoch 00017: val_f1 improved from 0.38793 to 0.46930, saving model to efficient_model.h5\n",
      "Epoch 18/100\n",
      "42/42 [==============================] - 22s 527ms/step - loss: 0.0050 - accuracy: 0.8367 - f1: 0.9976 - val_loss: 0.6606 - val_accuracy: 0.3938 - val_f1: 0.5284\n",
      "\n",
      "Epoch 00018: val_f1 improved from 0.46930 to 0.52839, saving model to efficient_model.h5\n",
      "Epoch 19/100\n",
      "42/42 [==============================] - 23s 539ms/step - loss: 0.0035 - accuracy: 0.8289 - f1: 0.9979 - val_loss: 0.6683 - val_accuracy: 0.4422 - val_f1: 0.5672\n",
      "\n",
      "Epoch 00019: val_f1 improved from 0.52839 to 0.56719, saving model to efficient_model.h5\n",
      "Epoch 20/100\n",
      "42/42 [==============================] - 23s 538ms/step - loss: 0.0028 - accuracy: 0.8296 - f1: 0.9987 - val_loss: 0.6710 - val_accuracy: 0.5000 - val_f1: 0.6136\n",
      "\n",
      "Epoch 00020: val_f1 improved from 0.56719 to 0.61363, saving model to efficient_model.h5\n",
      "Epoch 21/100\n",
      "42/42 [==============================] - 22s 531ms/step - loss: 0.0020 - accuracy: 0.8319 - f1: 0.9994 - val_loss: 0.7022 - val_accuracy: 0.4344 - val_f1: 0.5793\n",
      "\n",
      "Epoch 00021: val_f1 did not improve from 0.61363\n",
      "Epoch 22/100\n",
      "42/42 [==============================] - 23s 541ms/step - loss: 0.0032 - accuracy: 0.8301 - f1: 0.9984 - val_loss: 0.6656 - val_accuracy: 0.3953 - val_f1: 0.5325\n",
      "\n",
      "Epoch 00022: val_f1 did not improve from 0.61363\n",
      "Epoch 23/100\n",
      "42/42 [==============================] - 23s 538ms/step - loss: 0.0024 - accuracy: 0.8299 - f1: 0.9995 - val_loss: 0.7802 - val_accuracy: 0.3859 - val_f1: 0.5186\n",
      "\n",
      "Epoch 00023: val_f1 did not improve from 0.61363\n",
      "Epoch 24/100\n",
      "42/42 [==============================] - 22s 528ms/step - loss: 0.0021 - accuracy: 0.8218 - f1: 0.9989 - val_loss: 0.7473 - val_accuracy: 0.3375 - val_f1: 0.4658\n",
      "\n",
      "Epoch 00024: val_f1 did not improve from 0.61363\n",
      "Epoch 25/100\n",
      "42/42 [==============================] - 23s 536ms/step - loss: 0.0020 - accuracy: 0.8201 - f1: 0.9994 - val_loss: 0.7460 - val_accuracy: 0.3453 - val_f1: 0.4727\n",
      "\n",
      "Epoch 00025: val_f1 did not improve from 0.61363\n",
      "\n",
      "Epoch 00025: ReduceLROnPlateau reducing learning rate to 1.0000000474974514e-05.\n",
      "Epoch 26/100\n",
      "42/42 [==============================] - 23s 539ms/step - loss: 0.0022 - accuracy: 0.8478 - f1: 0.9985 - val_loss: 0.7446 - val_accuracy: 0.3938 - val_f1: 0.5364\n",
      "\n",
      "Epoch 00026: val_f1 did not improve from 0.61363\n",
      "Epoch 27/100\n",
      "42/42 [==============================] - 22s 526ms/step - loss: 0.0024 - accuracy: 0.8263 - f1: 0.9982 - val_loss: 0.7229 - val_accuracy: 0.4656 - val_f1: 0.5977\n",
      "\n",
      "Epoch 00027: val_f1 did not improve from 0.61363\n",
      "Epoch 28/100\n",
      "42/42 [==============================] - 23s 539ms/step - loss: 0.0016 - accuracy: 0.8315 - f1: 0.9997 - val_loss: 0.5307 - val_accuracy: 0.5859 - val_f1: 0.7277\n",
      "\n",
      "Epoch 00028: val_f1 improved from 0.61363 to 0.72772, saving model to efficient_model.h5\n",
      "Epoch 29/100\n",
      "42/42 [==============================] - 23s 546ms/step - loss: 0.0017 - accuracy: 0.8151 - f1: 0.9995 - val_loss: 0.4136 - val_accuracy: 0.6547 - val_f1: 0.7940\n",
      "\n",
      "Epoch 00029: val_f1 improved from 0.72772 to 0.79401, saving model to efficient_model.h5\n",
      "Epoch 30/100\n",
      "42/42 [==============================] - 23s 542ms/step - loss: 0.0021 - accuracy: 0.8265 - f1: 0.9989 - val_loss: 0.3892 - val_accuracy: 0.6625 - val_f1: 0.8058\n",
      "\n",
      "Epoch 00030: val_f1 improved from 0.79401 to 0.80580, saving model to efficient_model.h5\n",
      "Epoch 31/100\n",
      "42/42 [==============================] - 23s 535ms/step - loss: 0.0022 - accuracy: 0.8266 - f1: 0.9986 - val_loss: 0.3673 - val_accuracy: 0.6812 - val_f1: 0.8141\n",
      "\n",
      "Epoch 00031: val_f1 improved from 0.80580 to 0.81410, saving model to efficient_model.h5\n",
      "Epoch 32/100\n",
      "42/42 [==============================] - 23s 539ms/step - loss: 0.0016 - accuracy: 0.8149 - f1: 0.9994 - val_loss: 0.3693 - val_accuracy: 0.6766 - val_f1: 0.8075\n",
      "\n",
      "Epoch 00032: val_f1 did not improve from 0.81410\n",
      "Epoch 33/100\n",
      "42/42 [==============================] - 23s 535ms/step - loss: 0.0015 - accuracy: 0.8108 - f1: 0.9992 - val_loss: 0.3726 - val_accuracy: 0.6828 - val_f1: 0.8141\n",
      "\n",
      "Epoch 00033: val_f1 did not improve from 0.81410\n",
      "Epoch 34/100\n",
      "42/42 [==============================] - 22s 530ms/step - loss: 0.0014 - accuracy: 0.8262 - f1: 0.9995 - val_loss: 0.3742 - val_accuracy: 0.6719 - val_f1: 0.8097\n",
      "\n",
      "Epoch 00034: val_f1 did not improve from 0.81410\n",
      "Epoch 35/100\n",
      "42/42 [==============================] - 23s 542ms/step - loss: 0.0012 - accuracy: 0.8356 - f1: 0.9999 - val_loss: 0.3702 - val_accuracy: 0.6938 - val_f1: 0.8206\n",
      "\n",
      "Epoch 00035: val_f1 improved from 0.81410 to 0.82060, saving model to efficient_model.h5\n",
      "Epoch 36/100\n",
      "42/42 [==============================] - 23s 535ms/step - loss: 0.0020 - accuracy: 0.8244 - f1: 0.9984 - val_loss: 0.3735 - val_accuracy: 0.6891 - val_f1: 0.8273\n",
      "\n",
      "Epoch 00036: val_f1 improved from 0.82060 to 0.82731, saving model to efficient_model.h5\n",
      "Epoch 37/100\n",
      "42/42 [==============================] - 23s 534ms/step - loss: 0.0017 - accuracy: 0.8212 - f1: 0.9994 - val_loss: 0.3754 - val_accuracy: 0.6859 - val_f1: 0.8224\n",
      "\n",
      "Epoch 00037: val_f1 did not improve from 0.82731\n",
      "Epoch 38/100\n",
      "42/42 [==============================] - 23s 537ms/step - loss: 0.0011 - accuracy: 0.8325 - f1: 0.9999 - val_loss: 0.3727 - val_accuracy: 0.6969 - val_f1: 0.8240\n",
      "\n",
      "Epoch 00038: val_f1 did not improve from 0.82731\n",
      "Epoch 39/100\n",
      "42/42 [==============================] - 23s 542ms/step - loss: 0.0020 - accuracy: 0.8124 - f1: 0.9993 - val_loss: 0.4095 - val_accuracy: 0.6781 - val_f1: 0.7993\n",
      "\n",
      "Epoch 00039: val_f1 did not improve from 0.82731\n",
      "Epoch 40/100\n",
      "42/42 [==============================] - 22s 528ms/step - loss: 0.0015 - accuracy: 0.8298 - f1: 0.9995 - val_loss: 0.4222 - val_accuracy: 0.6797 - val_f1: 0.7849\n",
      "\n",
      "Epoch 00040: val_f1 did not improve from 0.82731\n",
      "Epoch 41/100\n",
      "42/42 [==============================] - 23s 545ms/step - loss: 0.0012 - accuracy: 0.8320 - f1: 0.9997 - val_loss: 0.4361 - val_accuracy: 0.6547 - val_f1: 0.7759\n",
      "\n",
      "Epoch 00041: val_f1 did not improve from 0.82731\n",
      "\n",
      "Epoch 00041: ReduceLROnPlateau reducing learning rate to 1.0000000656873453e-06.\n",
      "Epoch 42/100\n",
      "42/42 [==============================] - 23s 548ms/step - loss: 0.0014 - accuracy: 0.8301 - f1: 0.9995 - val_loss: 0.3956 - val_accuracy: 0.6797 - val_f1: 0.7973\n",
      "\n",
      "Epoch 00042: val_f1 did not improve from 0.82731\n",
      "Epoch 43/100\n",
      "42/42 [==============================] - 23s 541ms/step - loss: 0.0015 - accuracy: 0.8333 - f1: 0.9990 - val_loss: 0.3784 - val_accuracy: 0.6844 - val_f1: 0.8158\n",
      "\n",
      "Epoch 00043: val_f1 did not improve from 0.82731\n",
      "Epoch 44/100\n",
      "42/42 [==============================] - 22s 528ms/step - loss: 0.0015 - accuracy: 0.8304 - f1: 0.9994 - val_loss: 0.3730 - val_accuracy: 0.6938 - val_f1: 0.8181\n",
      "\n",
      "Epoch 00044: val_f1 did not improve from 0.82731\n",
      "Epoch 45/100\n",
      "42/42 [==============================] - 23s 538ms/step - loss: 0.0012 - accuracy: 0.8358 - f1: 0.9995 - val_loss: 0.3718 - val_accuracy: 0.6953 - val_f1: 0.8231\n",
      "\n",
      "Epoch 00045: val_f1 did not improve from 0.82731\n",
      "Epoch 46/100\n",
      "42/42 [==============================] - 22s 528ms/step - loss: 0.0026 - accuracy: 0.8233 - f1: 0.9979 - val_loss: 0.3727 - val_accuracy: 0.6906 - val_f1: 0.8215\n",
      "\n",
      "Epoch 00046: val_f1 did not improve from 0.82731\n",
      "\n",
      "Epoch 00046: ReduceLROnPlateau reducing learning rate to 1.0000001111620805e-07.\n",
      "Epoch 47/100\n",
      "42/42 [==============================] - 23s 540ms/step - loss: 0.0021 - accuracy: 0.8290 - f1: 0.9990 - val_loss: 0.3723 - val_accuracy: 0.6938 - val_f1: 0.8252\n",
      "\n",
      "Epoch 00047: val_f1 did not improve from 0.82731\n",
      "Epoch 48/100\n",
      "42/42 [==============================] - 23s 546ms/step - loss: 0.0014 - accuracy: 0.8339 - f1: 0.9995 - val_loss: 0.3716 - val_accuracy: 0.6938 - val_f1: 0.8259\n",
      "\n",
      "Epoch 00048: val_f1 did not improve from 0.82731\n",
      "Epoch 49/100\n",
      "42/42 [==============================] - 22s 530ms/step - loss: 0.0012 - accuracy: 0.8052 - f1: 0.9996 - val_loss: 0.3715 - val_accuracy: 0.6953 - val_f1: 0.8270\n",
      "\n",
      "Epoch 00049: val_f1 did not improve from 0.82731\n",
      "Epoch 50/100\n",
      "42/42 [==============================] - 23s 556ms/step - loss: 0.0014 - accuracy: 0.8467 - f1: 0.9995 - val_loss: 0.3714 - val_accuracy: 0.6953 - val_f1: 0.8277\n",
      "\n",
      "Epoch 00050: val_f1 improved from 0.82731 to 0.82767, saving model to efficient_model.h5\n",
      "Epoch 51/100\n",
      "42/42 [==============================] - 23s 544ms/step - loss: 0.0017 - accuracy: 0.8255 - f1: 0.9994 - val_loss: 0.3717 - val_accuracy: 0.6953 - val_f1: 0.8283\n",
      "\n",
      "Epoch 00051: val_f1 improved from 0.82767 to 0.82833, saving model to efficient_model.h5\n",
      "Epoch 52/100\n",
      "42/42 [==============================] - 22s 529ms/step - loss: 0.0013 - accuracy: 0.8344 - f1: 0.9998 - val_loss: 0.3723 - val_accuracy: 0.6953 - val_f1: 0.8288\n",
      "\n",
      "Epoch 00052: val_f1 improved from 0.82833 to 0.82880, saving model to efficient_model.h5\n",
      "Epoch 53/100\n",
      "42/42 [==============================] - 23s 539ms/step - loss: 0.0020 - accuracy: 0.8132 - f1: 0.9991 - val_loss: 0.3719 - val_accuracy: 0.6953 - val_f1: 0.8288\n",
      "\n",
      "Epoch 00053: val_f1 did not improve from 0.82880\n",
      "Epoch 54/100\n",
      "42/42 [==============================] - 23s 542ms/step - loss: 0.0011 - accuracy: 0.8361 - f1: 0.9994 - val_loss: 0.3717 - val_accuracy: 0.6953 - val_f1: 0.8264\n",
      "\n",
      "Epoch 00054: val_f1 did not improve from 0.82880\n",
      "Epoch 55/100\n",
      "42/42 [==============================] - 23s 540ms/step - loss: 0.0013 - accuracy: 0.8217 - f1: 0.9995 - val_loss: 0.3719 - val_accuracy: 0.6953 - val_f1: 0.8269\n",
      "\n",
      "Epoch 00055: val_f1 did not improve from 0.82880\n",
      "Epoch 56/100\n",
      "42/42 [==============================] - 22s 530ms/step - loss: 0.0012 - accuracy: 0.8283 - f1: 0.9999 - val_loss: 0.3722 - val_accuracy: 0.6953 - val_f1: 0.8258\n",
      "\n",
      "Epoch 00056: val_f1 did not improve from 0.82880\n",
      "Epoch 57/100\n",
      "42/42 [==============================] - 23s 542ms/step - loss: 0.0018 - accuracy: 0.8254 - f1: 0.9997 - val_loss: 0.3708 - val_accuracy: 0.6953 - val_f1: 0.8272\n",
      "\n",
      "Epoch 00057: val_f1 did not improve from 0.82880\n",
      "\n",
      "Epoch 00057: ReduceLROnPlateau reducing learning rate to 1.000000082740371e-08.\n",
      "Epoch 58/100\n",
      "42/42 [==============================] - 23s 546ms/step - loss: 0.0013 - accuracy: 0.8277 - f1: 0.9998 - val_loss: 0.3715 - val_accuracy: 0.6953 - val_f1: 0.8272\n",
      "\n",
      "Epoch 00058: val_f1 did not improve from 0.82880\n",
      "Epoch 59/100\n",
      "42/42 [==============================] - 22s 529ms/step - loss: 0.0027 - accuracy: 0.8462 - f1: 0.9992 - val_loss: 0.3717 - val_accuracy: 0.6938 - val_f1: 0.8274\n",
      "\n",
      "Epoch 00059: val_f1 did not improve from 0.82880\n",
      "Epoch 60/100\n",
      "42/42 [==============================] - 23s 542ms/step - loss: 0.0011 - accuracy: 0.8382 - f1: 0.9999 - val_loss: 0.3715 - val_accuracy: 0.6953 - val_f1: 0.8267\n",
      "\n",
      "Epoch 00060: val_f1 did not improve from 0.82880\n",
      "Epoch 61/100\n",
      "42/42 [==============================] - 23s 539ms/step - loss: 0.0017 - accuracy: 0.8266 - f1: 0.9995 - val_loss: 0.3717 - val_accuracy: 0.6953 - val_f1: 0.8267\n",
      "\n",
      "Epoch 00061: val_f1 did not improve from 0.82880\n",
      "Epoch 62/100\n",
      "42/42 [==============================] - 23s 532ms/step - loss: 0.0015 - accuracy: 0.8315 - f1: 0.9991 - val_loss: 0.3712 - val_accuracy: 0.6953 - val_f1: 0.8267\n",
      "\n",
      "Epoch 00062: val_f1 did not improve from 0.82880\n",
      "\n",
      "Epoch 00062: ReduceLROnPlateau reducing learning rate to 1e-08.\n",
      "Epoch 63/100\n",
      "42/42 [==============================] - 23s 542ms/step - loss: 0.0025 - accuracy: 0.8445 - f1: 0.9987 - val_loss: 0.3721 - val_accuracy: 0.6953 - val_f1: 0.8267\n",
      "\n",
      "Epoch 00063: val_f1 did not improve from 0.82880\n",
      "Epoch 64/100\n",
      "42/42 [==============================] - 23s 538ms/step - loss: 0.0014 - accuracy: 0.8360 - f1: 0.9997 - val_loss: 0.3710 - val_accuracy: 0.6953 - val_f1: 0.8277\n",
      "\n",
      "Epoch 00064: val_f1 did not improve from 0.82880\n",
      "Epoch 65/100\n",
      "42/42 [==============================] - 23s 538ms/step - loss: 0.0013 - accuracy: 0.8351 - f1: 0.9995 - val_loss: 0.3710 - val_accuracy: 0.6953 - val_f1: 0.8277\n",
      "\n",
      "Epoch 00065: val_f1 did not improve from 0.82880\n",
      "Epoch 66/100\n",
      "42/42 [==============================] - 22s 525ms/step - loss: 0.0014 - accuracy: 0.8215 - f1: 0.9995 - val_loss: 0.3712 - val_accuracy: 0.6953 - val_f1: 0.8277\n",
      "\n",
      "Epoch 00066: val_f1 did not improve from 0.82880\n",
      "Epoch 67/100\n",
      "42/42 [==============================] - 23s 542ms/step - loss: 0.0021 - accuracy: 0.8320 - f1: 0.9982 - val_loss: 0.3705 - val_accuracy: 0.6953 - val_f1: 0.8272\n",
      "\n",
      "Epoch 00067: val_f1 did not improve from 0.82880\n",
      "Epoch 68/100\n",
      "42/42 [==============================] - 23s 538ms/step - loss: 0.0017 - accuracy: 0.8376 - f1: 0.9995 - val_loss: 0.3713 - val_accuracy: 0.6953 - val_f1: 0.8260\n",
      "\n",
      "Epoch 00068: val_f1 did not improve from 0.82880\n",
      "Epoch 69/100\n",
      "42/42 [==============================] - 23s 529ms/step - loss: 0.0024 - accuracy: 0.8322 - f1: 0.9983 - val_loss: 0.3715 - val_accuracy: 0.6953 - val_f1: 0.8260\n",
      "\n",
      "Epoch 00069: val_f1 did not improve from 0.82880\n",
      "Epoch 70/100\n",
      "42/42 [==============================] - 23s 535ms/step - loss: 0.0016 - accuracy: 0.8249 - f1: 0.9992 - val_loss: 0.3715 - val_accuracy: 0.6953 - val_f1: 0.8272\n",
      "\n",
      "Epoch 00070: val_f1 did not improve from 0.82880\n",
      "Epoch 71/100\n",
      "42/42 [==============================] - 23s 542ms/step - loss: 0.0015 - accuracy: 0.8189 - f1: 0.9996 - val_loss: 0.3715 - val_accuracy: 0.6953 - val_f1: 0.8272\n",
      "\n",
      "Epoch 00071: val_f1 did not improve from 0.82880\n",
      "Epoch 72/100\n",
      "42/42 [==============================] - 22s 526ms/step - loss: 0.0015 - accuracy: 0.8340 - f1: 0.9996 - val_loss: 0.3717 - val_accuracy: 0.6953 - val_f1: 0.8277\n",
      "\n",
      "Epoch 00072: val_f1 did not improve from 0.82880\n",
      "Epoch 73/100\n",
      "42/42 [==============================] - 23s 540ms/step - loss: 0.0016 - accuracy: 0.8316 - f1: 0.9996 - val_loss: 0.3708 - val_accuracy: 0.6953 - val_f1: 0.8272\n",
      "\n",
      "Epoch 00073: val_f1 did not improve from 0.82880\n",
      "Epoch 74/100\n",
      "42/42 [==============================] - 23s 536ms/step - loss: 0.0019 - accuracy: 0.8325 - f1: 0.9991 - val_loss: 0.3708 - val_accuracy: 0.6953 - val_f1: 0.8267\n",
      "\n",
      "Epoch 00074: val_f1 did not improve from 0.82880\n",
      "Epoch 75/100\n",
      "42/42 [==============================] - 22s 529ms/step - loss: 0.0013 - accuracy: 0.8291 - f1: 0.9999 - val_loss: 0.3707 - val_accuracy: 0.6953 - val_f1: 0.8263\n",
      "\n",
      "Epoch 00075: val_f1 did not improve from 0.82880\n",
      "Epoch 76/100\n",
      "42/42 [==============================] - 23s 536ms/step - loss: 0.0017 - accuracy: 0.8222 - f1: 0.9988 - val_loss: 0.3714 - val_accuracy: 0.6953 - val_f1: 0.8267\n",
      "\n",
      "Epoch 00076: val_f1 did not improve from 0.82880\n",
      "Epoch 77/100\n",
      "42/42 [==============================] - 23s 540ms/step - loss: 0.0018 - accuracy: 0.8367 - f1: 0.9992 - val_loss: 0.3717 - val_accuracy: 0.6953 - val_f1: 0.8267\n",
      "\n",
      "Epoch 00077: val_f1 did not improve from 0.82880\n",
      "Epoch 78/100\n",
      "42/42 [==============================] - 23s 535ms/step - loss: 0.0015 - accuracy: 0.8388 - f1: 0.9995 - val_loss: 0.3716 - val_accuracy: 0.6953 - val_f1: 0.8267\n",
      "\n",
      "Epoch 00078: val_f1 did not improve from 0.82880\n",
      "Epoch 79/100\n",
      "42/42 [==============================] - 22s 526ms/step - loss: 0.0017 - accuracy: 0.8418 - f1: 0.9988 - val_loss: 0.3714 - val_accuracy: 0.6953 - val_f1: 0.8272\n",
      "\n",
      "Epoch 00079: val_f1 did not improve from 0.82880\n",
      "Epoch 80/100\n",
      "42/42 [==============================] - 23s 539ms/step - loss: 0.0017 - accuracy: 0.8294 - f1: 0.9991 - val_loss: 0.3715 - val_accuracy: 0.6953 - val_f1: 0.8277\n",
      "\n",
      "Epoch 00080: val_f1 did not improve from 0.82880\n",
      "Epoch 81/100\n",
      "42/42 [==============================] - 23s 542ms/step - loss: 0.0020 - accuracy: 0.8285 - f1: 0.9986 - val_loss: 0.3716 - val_accuracy: 0.6953 - val_f1: 0.8272\n",
      "\n",
      "Epoch 00081: val_f1 did not improve from 0.82880\n",
      "Epoch 82/100\n",
      "42/42 [==============================] - 22s 527ms/step - loss: 0.0017 - accuracy: 0.8360 - f1: 0.9988 - val_loss: 0.3716 - val_accuracy: 0.6953 - val_f1: 0.8263\n",
      "\n",
      "Epoch 00082: val_f1 did not improve from 0.82880\n",
      "Epoch 83/100\n",
      "42/42 [==============================] - 23s 544ms/step - loss: 0.0020 - accuracy: 0.8431 - f1: 0.9989 - val_loss: 0.3713 - val_accuracy: 0.6938 - val_f1: 0.8267\n",
      "\n",
      "Epoch 00083: val_f1 did not improve from 0.82880\n",
      "Epoch 84/100\n",
      "42/42 [==============================] - 23s 537ms/step - loss: 0.0020 - accuracy: 0.8423 - f1: 0.9988 - val_loss: 0.3709 - val_accuracy: 0.6953 - val_f1: 0.8277\n",
      "\n",
      "Epoch 00084: val_f1 did not improve from 0.82880\n",
      "Epoch 85/100\n",
      "42/42 [==============================] - 22s 527ms/step - loss: 0.0014 - accuracy: 0.8264 - f1: 0.9994 - val_loss: 0.3710 - val_accuracy: 0.6938 - val_f1: 0.8277\n",
      "\n",
      "Epoch 00085: val_f1 did not improve from 0.82880\n",
      "Epoch 86/100\n",
      "42/42 [==============================] - 23s 534ms/step - loss: 0.0017 - accuracy: 0.8302 - f1: 0.9991 - val_loss: 0.3711 - val_accuracy: 0.6938 - val_f1: 0.8279\n",
      "\n",
      "Epoch 00086: val_f1 did not improve from 0.82880\n",
      "Epoch 87/100\n",
      "42/42 [==============================] - 23s 540ms/step - loss: 0.0016 - accuracy: 0.8318 - f1: 0.9994 - val_loss: 0.3711 - val_accuracy: 0.6938 - val_f1: 0.8272\n",
      "\n",
      "Epoch 00087: val_f1 did not improve from 0.82880\n",
      "Epoch 88/100\n",
      "42/42 [==============================] - 22s 529ms/step - loss: 0.0029 - accuracy: 0.8364 - f1: 0.9985 - val_loss: 0.3713 - val_accuracy: 0.6938 - val_f1: 0.8272\n",
      "\n",
      "Epoch 00088: val_f1 did not improve from 0.82880\n",
      "Epoch 89/100\n",
      "42/42 [==============================] - 23s 536ms/step - loss: 0.0019 - accuracy: 0.8259 - f1: 0.9986 - val_loss: 0.3715 - val_accuracy: 0.6953 - val_f1: 0.8277\n",
      "\n",
      "Epoch 00089: val_f1 did not improve from 0.82880\n",
      "Epoch 90/100\n",
      "42/42 [==============================] - 23s 543ms/step - loss: 0.0016 - accuracy: 0.8493 - f1: 0.9993 - val_loss: 0.3714 - val_accuracy: 0.6953 - val_f1: 0.8277\n",
      "\n",
      "Epoch 00090: val_f1 did not improve from 0.82880\n",
      "Epoch 91/100\n",
      "42/42 [==============================] - 22s 530ms/step - loss: 0.0013 - accuracy: 0.8469 - f1: 0.9993 - val_loss: 0.3714 - val_accuracy: 0.6938 - val_f1: 0.8264\n",
      "\n",
      "Epoch 00091: val_f1 did not improve from 0.82880\n",
      "Epoch 92/100\n",
      "42/42 [==============================] - 23s 537ms/step - loss: 0.0012 - accuracy: 0.8180 - f1: 0.9996 - val_loss: 0.3714 - val_accuracy: 0.6953 - val_f1: 0.8270\n",
      "\n",
      "Epoch 00092: val_f1 did not improve from 0.82880\n",
      "Epoch 93/100\n",
      "42/42 [==============================] - 23s 538ms/step - loss: 0.0015 - accuracy: 0.8291 - f1: 0.9993 - val_loss: 0.3717 - val_accuracy: 0.6953 - val_f1: 0.8272\n",
      "\n",
      "Epoch 00093: val_f1 did not improve from 0.82880\n",
      "Epoch 94/100\n",
      "42/42 [==============================] - 23s 534ms/step - loss: 0.0014 - accuracy: 0.8255 - f1: 0.9993 - val_loss: 0.3710 - val_accuracy: 0.6953 - val_f1: 0.8272\n",
      "\n",
      "Epoch 00094: val_f1 did not improve from 0.82880\n",
      "Epoch 95/100\n",
      "42/42 [==============================] - 22s 526ms/step - loss: 0.0019 - accuracy: 0.8381 - f1: 0.9985 - val_loss: 0.3710 - val_accuracy: 0.6938 - val_f1: 0.8263\n",
      "\n",
      "Epoch 00095: val_f1 did not improve from 0.82880\n",
      "Epoch 96/100\n",
      "42/42 [==============================] - 23s 536ms/step - loss: 0.0016 - accuracy: 0.8216 - f1: 0.9997 - val_loss: 0.3708 - val_accuracy: 0.6953 - val_f1: 0.8272\n",
      "\n",
      "Epoch 00096: val_f1 did not improve from 0.82880\n",
      "Epoch 97/100\n",
      "42/42 [==============================] - 23s 533ms/step - loss: 0.0019 - accuracy: 0.8314 - f1: 0.9988 - val_loss: 0.3710 - val_accuracy: 0.6953 - val_f1: 0.8272\n",
      "\n",
      "Epoch 00097: val_f1 did not improve from 0.82880\n",
      "Epoch 98/100\n",
      "42/42 [==============================] - 22s 524ms/step - loss: 0.0019 - accuracy: 0.8399 - f1: 0.9993 - val_loss: 0.3718 - val_accuracy: 0.6953 - val_f1: 0.8267\n",
      "\n",
      "Epoch 00098: val_f1 did not improve from 0.82880\n",
      "Epoch 99/100\n",
      "42/42 [==============================] - 23s 537ms/step - loss: 0.0015 - accuracy: 0.8402 - f1: 0.9989 - val_loss: 0.3721 - val_accuracy: 0.6953 - val_f1: 0.8267\n",
      "\n",
      "Epoch 00099: val_f1 did not improve from 0.82880\n",
      "Epoch 100/100\n",
      "42/42 [==============================] - 23s 540ms/step - loss: 0.0017 - accuracy: 0.8341 - f1: 0.9994 - val_loss: 0.3727 - val_accuracy: 0.6953 - val_f1: 0.8265\n",
      "\n",
      "Epoch 00100: val_f1 did not improve from 0.82880\n"
     ]
    }
   ],
   "source": [
    "efficient_history = efficient_model.fit_generator(train_gen,\n",
    "                                  steps_per_epoch=steps_per_epoch,\n",
    "                                  epochs= MAX_EPOCHS,\n",
    "                                  verbose=1,\n",
    "                                  validation_data=val_gen,\n",
    "                                  validation_steps=validation_steps,\n",
    "                                  callbacks=efficient_callbacks\n",
    "                             )"
   ]
  },
  {
   "cell_type": "code",
   "execution_count": 39,
   "metadata": {
    "execution": {
     "iopub.execute_input": "2021-12-07T17:12:02.169889Z",
     "iopub.status.busy": "2021-12-07T17:12:02.169635Z",
     "iopub.status.idle": "2021-12-07T17:12:02.719837Z",
     "shell.execute_reply": "2021-12-07T17:12:02.719029Z",
     "shell.execute_reply.started": "2021-12-07T17:12:02.169857Z"
    }
   },
   "outputs": [],
   "source": [
    "efficient_model.save(os.path.join(\"./\",\"final_efficientB0_model.h5\"))"
   ]
  },
  {
   "cell_type": "code",
   "execution_count": 40,
   "metadata": {
    "execution": {
     "iopub.execute_input": "2021-12-07T17:12:02.721548Z",
     "iopub.status.busy": "2021-12-07T17:12:02.721296Z",
     "iopub.status.idle": "2021-12-07T17:12:06.842828Z",
     "shell.execute_reply": "2021-12-07T17:12:06.842167Z",
     "shell.execute_reply.started": "2021-12-07T17:12:02.721505Z"
    }
   },
   "outputs": [
    {
     "name": "stdout",
     "output_type": "stream",
     "text": [
      "11/11 [==============================] - 4s 321ms/step - loss: 0.3723 - accuracy: 0.6958 - f1: 0.8249\n"
     ]
    },
    {
     "data": {
      "text/plain": [
       "[0.372284471988678, 0.6957787275314331, 0.8249229788780212]"
      ]
     },
     "execution_count": 40,
     "metadata": {},
     "output_type": "execute_result"
    }
   ],
   "source": [
    "efficient_model.evaluate(val_gen,batch_size=20)"
   ]
  },
  {
   "cell_type": "code",
   "execution_count": 44,
   "metadata": {
    "execution": {
     "iopub.execute_input": "2021-12-07T17:12:40.148160Z",
     "iopub.status.busy": "2021-12-07T17:12:40.147457Z",
     "iopub.status.idle": "2021-12-07T17:12:41.815267Z",
     "shell.execute_reply": "2021-12-07T17:12:41.814552Z",
     "shell.execute_reply.started": "2021-12-07T17:12:40.148124Z"
    }
   },
   "outputs": [],
   "source": [
    "inputs = Input(shape=(IMAGE_SIZE,IMAGE_SIZE,3))\n",
    "resnet_layers = tf.keras.applications.resnet50.ResNet50(weights='imagenet', \n",
    "                                              include_top=False,input_shape=(IMAGE_SIZE,IMAGE_SIZE,3))(inputs)\n",
    "avg_layer = AveragePooling2D(pool_size=(7, 7), strides=(1, 1), padding='valid')(resnet_layers)\n",
    "flat = Flatten()(avg_layer)\n",
    "outputs = Dense(7, activation='sigmoid')(flat)\n",
    "\n",
    "resnet_model = Model(inputs=inputs, outputs=outputs, name=\"Resnet50_model\")"
   ]
  },
  {
   "cell_type": "code",
   "execution_count": 42,
   "metadata": {
    "execution": {
     "iopub.execute_input": "2021-12-07T17:12:29.014404Z",
     "iopub.status.busy": "2021-12-07T17:12:29.014134Z",
     "iopub.status.idle": "2021-12-07T17:12:29.021194Z",
     "shell.execute_reply": "2021-12-07T17:12:29.018763Z",
     "shell.execute_reply.started": "2021-12-07T17:12:29.014376Z"
    }
   },
   "outputs": [],
   "source": [
    "res_mcp = keras.callbacks.ModelCheckpoint(\"reset_model.h5\", monitor=\"val_f1\", save_best_only=True, save_weights_only=True, verbose=1,mode='max')\n",
    "res_rlr = keras.callbacks.ReduceLROnPlateau(monitor='val_f1', factor=LEARNING_RATE_SCHEDULE_FACTOR, mode='max', patience=LEARNING_RATE_SCHEDULE_PATIENCE, min_lr=1e-8, verbose=1)\n",
    "resnet_callbacks = [res_mcp, res_rlr]"
   ]
  },
  {
   "cell_type": "code",
   "execution_count": 45,
   "metadata": {
    "execution": {
     "iopub.execute_input": "2021-12-07T17:12:43.081659Z",
     "iopub.status.busy": "2021-12-07T17:12:43.081262Z",
     "iopub.status.idle": "2021-12-07T17:12:43.116045Z",
     "shell.execute_reply": "2021-12-07T17:12:43.115299Z",
     "shell.execute_reply.started": "2021-12-07T17:12:43.081624Z"
    }
   },
   "outputs": [
    {
     "name": "stdout",
     "output_type": "stream",
     "text": [
      "Model: \"Resnet50_model\"\n",
      "_________________________________________________________________\n",
      "Layer (type)                 Output Shape              Param #   \n",
      "=================================================================\n",
      "input_15 (InputLayer)        [(None, 224, 224, 3)]     0         \n",
      "_________________________________________________________________\n",
      "resnet50 (Functional)        (None, 7, 7, 2048)        23587712  \n",
      "_________________________________________________________________\n",
      "average_pooling2d_52 (Averag (None, 1, 1, 2048)        0         \n",
      "_________________________________________________________________\n",
      "flatten_7 (Flatten)          (None, 2048)              0         \n",
      "_________________________________________________________________\n",
      "dense_7 (Dense)              (None, 7)                 14343     \n",
      "=================================================================\n",
      "Total params: 23,602,055\n",
      "Trainable params: 23,548,935\n",
      "Non-trainable params: 53,120\n",
      "_________________________________________________________________\n"
     ]
    }
   ],
   "source": [
    "resnet_model.compile(optimizer=keras.optimizers.Adam(lr=LEARNING_RATE), \n",
    "              loss='binary_crossentropy', \n",
    "              metrics=['accuracy',f1,CohenKappa(num_classes=7)])\n",
    "resnet_model.summary()"
   ]
  },
  {
   "cell_type": "code",
   "execution_count": 46,
   "metadata": {
    "execution": {
     "iopub.execute_input": "2021-12-07T17:13:23.816462Z",
     "iopub.status.busy": "2021-12-07T17:13:23.816204Z",
     "iopub.status.idle": "2021-12-07T17:48:57.450215Z",
     "shell.execute_reply": "2021-12-07T17:48:57.449363Z",
     "shell.execute_reply.started": "2021-12-07T17:13:23.816435Z"
    }
   },
   "outputs": [
    {
     "name": "stdout",
     "output_type": "stream",
     "text": [
      "Epoch 1/100\n",
      "42/42 [==============================] - 28s 548ms/step - loss: 0.4311 - accuracy: 0.3997 - f1: 0.4718 - val_loss: 352.1854 - val_accuracy: 0.1531 - val_f1: 0.1256\n",
      "\n",
      "Epoch 00001: val_f1 improved from -inf to 0.12559, saving model to reset_model.h5\n",
      "Epoch 2/100\n",
      "42/42 [==============================] - 22s 508ms/step - loss: 0.2832 - accuracy: 0.5777 - f1: 0.6711 - val_loss: 230.1763 - val_accuracy: 0.1531 - val_f1: 0.1256\n",
      "\n",
      "Epoch 00002: val_f1 did not improve from 0.12559\n",
      "Epoch 3/100\n",
      "42/42 [==============================] - 21s 501ms/step - loss: 0.2313 - accuracy: 0.6424 - f1: 0.7398 - val_loss: 0.6599 - val_accuracy: 0.2141 - val_f1: 0.3614\n",
      "\n",
      "Epoch 00003: val_f1 improved from 0.12559 to 0.36144, saving model to reset_model.h5\n",
      "Epoch 4/100\n",
      "42/42 [==============================] - 21s 500ms/step - loss: 0.1804 - accuracy: 0.7116 - f1: 0.8139 - val_loss: 0.6642 - val_accuracy: 0.2141 - val_f1: 0.3614\n",
      "\n",
      "Epoch 00004: val_f1 did not improve from 0.36144\n",
      "Epoch 5/100\n",
      "42/42 [==============================] - 21s 505ms/step - loss: 0.1464 - accuracy: 0.7684 - f1: 0.8536 - val_loss: 5.6620 - val_accuracy: 0.1531 - val_f1: 0.1256\n",
      "\n",
      "Epoch 00005: val_f1 did not improve from 0.36144\n",
      "Epoch 6/100\n",
      "42/42 [==============================] - 21s 494ms/step - loss: 0.1099 - accuracy: 0.8004 - f1: 0.8913 - val_loss: 0.5256 - val_accuracy: 0.2141 - val_f1: 0.3614\n",
      "\n",
      "Epoch 00006: val_f1 did not improve from 0.36144\n",
      "Epoch 7/100\n",
      "42/42 [==============================] - 21s 503ms/step - loss: 0.0806 - accuracy: 0.8117 - f1: 0.9236 - val_loss: 0.5935 - val_accuracy: 0.2141 - val_f1: 0.3617\n",
      "\n",
      "Epoch 00007: val_f1 improved from 0.36144 to 0.36166, saving model to reset_model.h5\n",
      "Epoch 8/100\n",
      "42/42 [==============================] - 21s 509ms/step - loss: 0.0612 - accuracy: 0.8043 - f1: 0.9511 - val_loss: 1.0769 - val_accuracy: 0.2141 - val_f1: 0.3614\n",
      "\n",
      "Epoch 00008: val_f1 did not improve from 0.36166\n",
      "Epoch 9/100\n",
      "42/42 [==============================] - 21s 493ms/step - loss: 0.0512 - accuracy: 0.7988 - f1: 0.9562 - val_loss: 0.5644 - val_accuracy: 0.2031 - val_f1: 0.2010\n",
      "\n",
      "Epoch 00009: val_f1 did not improve from 0.36166\n",
      "Epoch 10/100\n",
      "42/42 [==============================] - 21s 502ms/step - loss: 0.0341 - accuracy: 0.8305 - f1: 0.9714 - val_loss: 1.5768 - val_accuracy: 0.2141 - val_f1: 0.3614\n",
      "\n",
      "Epoch 00010: val_f1 did not improve from 0.36166\n",
      "Epoch 11/100\n",
      "42/42 [==============================] - 21s 505ms/step - loss: 0.0303 - accuracy: 0.8404 - f1: 0.9755 - val_loss: 0.5481 - val_accuracy: 0.2219 - val_f1: 0.3683\n",
      "\n",
      "Epoch 00011: val_f1 improved from 0.36166 to 0.36833, saving model to reset_model.h5\n",
      "Epoch 12/100\n",
      "42/42 [==============================] - 21s 496ms/step - loss: 0.0182 - accuracy: 0.8592 - f1: 0.9865 - val_loss: 0.5353 - val_accuracy: 0.2219 - val_f1: 0.3751\n",
      "\n",
      "Epoch 00012: val_f1 improved from 0.36833 to 0.37509, saving model to reset_model.h5\n",
      "Epoch 13/100\n",
      "42/42 [==============================] - 21s 509ms/step - loss: 0.0186 - accuracy: 0.7915 - f1: 0.9848 - val_loss: 1.9070 - val_accuracy: 0.2141 - val_f1: 0.3814\n",
      "\n",
      "Epoch 00013: val_f1 improved from 0.37509 to 0.38135, saving model to reset_model.h5\n",
      "Epoch 14/100\n",
      "42/42 [==============================] - 21s 501ms/step - loss: 0.0144 - accuracy: 0.8284 - f1: 0.9878 - val_loss: 1.6622 - val_accuracy: 0.2234 - val_f1: 0.3819\n",
      "\n",
      "Epoch 00014: val_f1 improved from 0.38135 to 0.38191, saving model to reset_model.h5\n",
      "Epoch 15/100\n",
      "42/42 [==============================] - 21s 496ms/step - loss: 0.0198 - accuracy: 0.8013 - f1: 0.9855 - val_loss: 1.1046 - val_accuracy: 0.1766 - val_f1: 0.0963\n",
      "\n",
      "Epoch 00015: val_f1 did not improve from 0.38191\n",
      "Epoch 16/100\n",
      "42/42 [==============================] - 21s 505ms/step - loss: 0.0219 - accuracy: 0.8047 - f1: 0.9797 - val_loss: 0.7253 - val_accuracy: 0.2016 - val_f1: 0.3668\n",
      "\n",
      "Epoch 00016: val_f1 did not improve from 0.38191\n",
      "Epoch 17/100\n",
      "42/42 [==============================] - 21s 492ms/step - loss: 0.0176 - accuracy: 0.8135 - f1: 0.9849 - val_loss: 1.2137 - val_accuracy: 0.2016 - val_f1: 0.4125\n",
      "\n",
      "Epoch 00017: val_f1 improved from 0.38191 to 0.41251, saving model to reset_model.h5\n",
      "Epoch 18/100\n",
      "42/42 [==============================] - 21s 503ms/step - loss: 0.0219 - accuracy: 0.7763 - f1: 0.9825 - val_loss: 0.5858 - val_accuracy: 0.2922 - val_f1: 0.3449\n",
      "\n",
      "Epoch 00018: val_f1 did not improve from 0.41251\n",
      "Epoch 19/100\n",
      "42/42 [==============================] - 21s 499ms/step - loss: 0.0169 - accuracy: 0.8100 - f1: 0.9867 - val_loss: 0.7504 - val_accuracy: 0.3797 - val_f1: 0.4876\n",
      "\n",
      "Epoch 00019: val_f1 improved from 0.41251 to 0.48760, saving model to reset_model.h5\n",
      "Epoch 20/100\n",
      "42/42 [==============================] - 21s 499ms/step - loss: 0.0239 - accuracy: 0.8194 - f1: 0.9810 - val_loss: 1.1121 - val_accuracy: 0.4219 - val_f1: 0.5298\n",
      "\n",
      "Epoch 00020: val_f1 improved from 0.48760 to 0.52976, saving model to reset_model.h5\n",
      "Epoch 21/100\n",
      "42/42 [==============================] - 21s 503ms/step - loss: 0.0145 - accuracy: 0.8131 - f1: 0.9898 - val_loss: 0.9320 - val_accuracy: 0.3703 - val_f1: 0.5217\n",
      "\n",
      "Epoch 00021: val_f1 did not improve from 0.52976\n",
      "Epoch 22/100\n",
      "42/42 [==============================] - 21s 500ms/step - loss: 0.0087 - accuracy: 0.8368 - f1: 0.9940 - val_loss: 1.1185 - val_accuracy: 0.4219 - val_f1: 0.5707\n",
      "\n",
      "Epoch 00022: val_f1 improved from 0.52976 to 0.57072, saving model to reset_model.h5\n",
      "Epoch 23/100\n",
      "42/42 [==============================] - 21s 497ms/step - loss: 0.0181 - accuracy: 0.8108 - f1: 0.9861 - val_loss: 0.6630 - val_accuracy: 0.4719 - val_f1: 0.5795\n",
      "\n",
      "Epoch 00023: val_f1 improved from 0.57072 to 0.57947, saving model to reset_model.h5\n",
      "Epoch 24/100\n",
      "42/42 [==============================] - 21s 504ms/step - loss: 0.0132 - accuracy: 0.8097 - f1: 0.9898 - val_loss: 1.1258 - val_accuracy: 0.3953 - val_f1: 0.5365\n",
      "\n",
      "Epoch 00024: val_f1 did not improve from 0.57947\n",
      "Epoch 25/100\n",
      "42/42 [==============================] - 21s 503ms/step - loss: 0.0084 - accuracy: 0.8247 - f1: 0.9941 - val_loss: 0.7411 - val_accuracy: 0.5172 - val_f1: 0.6284\n",
      "\n",
      "Epoch 00025: val_f1 improved from 0.57947 to 0.62843, saving model to reset_model.h5\n",
      "Epoch 26/100\n",
      "42/42 [==============================] - 21s 494ms/step - loss: 0.0086 - accuracy: 0.8416 - f1: 0.9946 - val_loss: 0.8104 - val_accuracy: 0.4922 - val_f1: 0.6066\n",
      "\n",
      "Epoch 00026: val_f1 did not improve from 0.62843\n",
      "Epoch 27/100\n",
      "42/42 [==============================] - 21s 506ms/step - loss: 0.0081 - accuracy: 0.8204 - f1: 0.9945 - val_loss: 0.8196 - val_accuracy: 0.4875 - val_f1: 0.6255\n",
      "\n",
      "Epoch 00027: val_f1 did not improve from 0.62843\n",
      "Epoch 28/100\n",
      "42/42 [==============================] - 21s 506ms/step - loss: 0.0045 - accuracy: 0.8201 - f1: 0.9974 - val_loss: 0.6576 - val_accuracy: 0.6422 - val_f1: 0.7154\n",
      "\n",
      "Epoch 00028: val_f1 improved from 0.62843 to 0.71543, saving model to reset_model.h5\n",
      "Epoch 29/100\n",
      "42/42 [==============================] - 21s 492ms/step - loss: 0.0063 - accuracy: 0.8621 - f1: 0.9956 - val_loss: 0.4041 - val_accuracy: 0.6109 - val_f1: 0.7226\n",
      "\n",
      "Epoch 00029: val_f1 improved from 0.71543 to 0.72255, saving model to reset_model.h5\n",
      "Epoch 30/100\n",
      "42/42 [==============================] - 21s 505ms/step - loss: 0.0043 - accuracy: 0.8177 - f1: 0.9970 - val_loss: 0.5886 - val_accuracy: 0.5547 - val_f1: 0.6943\n",
      "\n",
      "Epoch 00030: val_f1 did not improve from 0.72255\n",
      "Epoch 31/100\n",
      "42/42 [==============================] - 21s 504ms/step - loss: 0.0051 - accuracy: 0.8090 - f1: 0.9967 - val_loss: 0.5935 - val_accuracy: 0.5437 - val_f1: 0.7006\n",
      "\n",
      "Epoch 00031: val_f1 did not improve from 0.72255\n",
      "Epoch 32/100\n",
      "42/42 [==============================] - 21s 496ms/step - loss: 0.0052 - accuracy: 0.8107 - f1: 0.9967 - val_loss: 0.6888 - val_accuracy: 0.5250 - val_f1: 0.6904\n",
      "\n",
      "Epoch 00032: val_f1 did not improve from 0.72255\n",
      "Epoch 33/100\n",
      "42/42 [==============================] - 21s 501ms/step - loss: 0.0055 - accuracy: 0.8071 - f1: 0.9949 - val_loss: 0.4659 - val_accuracy: 0.5969 - val_f1: 0.7124\n",
      "\n",
      "Epoch 00033: val_f1 did not improve from 0.72255\n",
      "Epoch 34/100\n",
      "42/42 [==============================] - 21s 493ms/step - loss: 0.0067 - accuracy: 0.8309 - f1: 0.9960 - val_loss: 0.9834 - val_accuracy: 0.4656 - val_f1: 0.6085\n",
      "\n",
      "Epoch 00034: val_f1 did not improve from 0.72255\n",
      "\n",
      "Epoch 00034: ReduceLROnPlateau reducing learning rate to 0.00010000000474974513.\n",
      "Epoch 35/100\n",
      "42/42 [==============================] - 21s 501ms/step - loss: 0.0040 - accuracy: 0.7990 - f1: 0.9971 - val_loss: 0.6384 - val_accuracy: 0.5922 - val_f1: 0.7032\n",
      "\n",
      "Epoch 00035: val_f1 did not improve from 0.72255\n",
      "Epoch 36/100\n",
      "42/42 [==============================] - 21s 502ms/step - loss: 9.8732e-04 - accuracy: 0.8141 - f1: 0.9999 - val_loss: 0.4946 - val_accuracy: 0.6328 - val_f1: 0.7520\n",
      "\n",
      "Epoch 00036: val_f1 improved from 0.72255 to 0.75195, saving model to reset_model.h5\n",
      "Epoch 37/100\n",
      "42/42 [==============================] - 21s 493ms/step - loss: 5.3347e-04 - accuracy: 0.8023 - f1: 1.0000 - val_loss: 0.4572 - val_accuracy: 0.6438 - val_f1: 0.7651\n",
      "\n",
      "Epoch 00037: val_f1 improved from 0.75195 to 0.76511, saving model to reset_model.h5\n",
      "Epoch 38/100\n",
      "42/42 [==============================] - 21s 506ms/step - loss: 5.8347e-04 - accuracy: 0.8141 - f1: 0.9999 - val_loss: 0.4338 - val_accuracy: 0.6609 - val_f1: 0.7764\n",
      "\n",
      "Epoch 00038: val_f1 improved from 0.76511 to 0.77638, saving model to reset_model.h5\n",
      "Epoch 39/100\n",
      "42/42 [==============================] - 21s 503ms/step - loss: 4.3989e-04 - accuracy: 0.8050 - f1: 1.0000 - val_loss: 0.4291 - val_accuracy: 0.6578 - val_f1: 0.7796\n",
      "\n",
      "Epoch 00039: val_f1 improved from 0.77638 to 0.77957, saving model to reset_model.h5\n",
      "Epoch 40/100\n",
      "42/42 [==============================] - 21s 492ms/step - loss: 3.6030e-04 - accuracy: 0.8193 - f1: 1.0000 - val_loss: 0.4322 - val_accuracy: 0.6547 - val_f1: 0.7803\n",
      "\n",
      "Epoch 00040: val_f1 improved from 0.77957 to 0.78032, saving model to reset_model.h5\n",
      "Epoch 41/100\n",
      "42/42 [==============================] - 21s 505ms/step - loss: 3.2168e-04 - accuracy: 0.7984 - f1: 1.0000 - val_loss: 0.4314 - val_accuracy: 0.6609 - val_f1: 0.7844\n",
      "\n",
      "Epoch 00041: val_f1 improved from 0.78032 to 0.78439, saving model to reset_model.h5\n",
      "Epoch 42/100\n",
      "42/42 [==============================] - 21s 505ms/step - loss: 2.8627e-04 - accuracy: 0.8209 - f1: 1.0000 - val_loss: 0.4304 - val_accuracy: 0.6594 - val_f1: 0.7835\n",
      "\n",
      "Epoch 00042: val_f1 did not improve from 0.78439\n",
      "Epoch 43/100\n",
      "42/42 [==============================] - 21s 495ms/step - loss: 2.8233e-04 - accuracy: 0.7982 - f1: 1.0000 - val_loss: 0.4316 - val_accuracy: 0.6594 - val_f1: 0.7841\n",
      "\n",
      "Epoch 00043: val_f1 did not improve from 0.78439\n",
      "Epoch 44/100\n",
      "42/42 [==============================] - 21s 502ms/step - loss: 1.9516e-04 - accuracy: 0.8173 - f1: 1.0000 - val_loss: 0.4319 - val_accuracy: 0.6578 - val_f1: 0.7843\n",
      "\n",
      "Epoch 00044: val_f1 did not improve from 0.78439\n",
      "Epoch 45/100\n",
      "42/42 [==============================] - 21s 506ms/step - loss: 2.1207e-04 - accuracy: 0.8247 - f1: 1.0000 - val_loss: 0.4333 - val_accuracy: 0.6578 - val_f1: 0.7839\n",
      "\n",
      "Epoch 00045: val_f1 did not improve from 0.78439\n",
      "Epoch 46/100\n",
      "42/42 [==============================] - 21s 498ms/step - loss: 1.8194e-04 - accuracy: 0.8191 - f1: 1.0000 - val_loss: 0.4345 - val_accuracy: 0.6562 - val_f1: 0.7832\n",
      "\n",
      "Epoch 00046: val_f1 did not improve from 0.78439\n",
      "\n",
      "Epoch 00046: ReduceLROnPlateau reducing learning rate to 1.0000000474974514e-05.\n",
      "Epoch 47/100\n",
      "42/42 [==============================] - 21s 504ms/step - loss: 1.6975e-04 - accuracy: 0.8130 - f1: 1.0000 - val_loss: 0.4347 - val_accuracy: 0.6578 - val_f1: 0.7852\n",
      "\n",
      "Epoch 00047: val_f1 improved from 0.78439 to 0.78523, saving model to reset_model.h5\n",
      "Epoch 48/100\n",
      "42/42 [==============================] - 21s 495ms/step - loss: 1.8393e-04 - accuracy: 0.8217 - f1: 1.0000 - val_loss: 0.4347 - val_accuracy: 0.6594 - val_f1: 0.7859\n",
      "\n",
      "Epoch 00048: val_f1 improved from 0.78523 to 0.78591, saving model to reset_model.h5\n",
      "Epoch 49/100\n",
      "42/42 [==============================] - 21s 506ms/step - loss: 1.7853e-04 - accuracy: 0.8248 - f1: 1.0000 - val_loss: 0.4349 - val_accuracy: 0.6594 - val_f1: 0.7866\n",
      "\n",
      "Epoch 00049: val_f1 improved from 0.78591 to 0.78660, saving model to reset_model.h5\n",
      "Epoch 50/100\n",
      "42/42 [==============================] - 21s 504ms/step - loss: 2.0311e-04 - accuracy: 0.8246 - f1: 1.0000 - val_loss: 0.4345 - val_accuracy: 0.6609 - val_f1: 0.7866\n",
      "\n",
      "Epoch 00050: val_f1 did not improve from 0.78660\n",
      "Epoch 51/100\n",
      "42/42 [==============================] - 21s 489ms/step - loss: 1.6166e-04 - accuracy: 0.8204 - f1: 1.0000 - val_loss: 0.4348 - val_accuracy: 0.6609 - val_f1: 0.7866\n",
      "\n",
      "Epoch 00051: val_f1 did not improve from 0.78660\n",
      "Epoch 52/100\n",
      "42/42 [==============================] - 21s 501ms/step - loss: 1.7322e-04 - accuracy: 0.8034 - f1: 1.0000 - val_loss: 0.4349 - val_accuracy: 0.6609 - val_f1: 0.7866\n",
      "\n",
      "Epoch 00052: val_f1 did not improve from 0.78660\n",
      "Epoch 53/100\n",
      "42/42 [==============================] - 21s 505ms/step - loss: 3.5356e-04 - accuracy: 0.8073 - f1: 1.0000 - val_loss: 0.4347 - val_accuracy: 0.6594 - val_f1: 0.7868\n",
      "\n",
      "Epoch 00053: val_f1 improved from 0.78660 to 0.78684, saving model to reset_model.h5\n",
      "Epoch 54/100\n",
      "42/42 [==============================] - 21s 495ms/step - loss: 1.7364e-04 - accuracy: 0.8047 - f1: 1.0000 - val_loss: 0.4353 - val_accuracy: 0.6594 - val_f1: 0.7868\n",
      "\n",
      "Epoch 00054: val_f1 did not improve from 0.78684\n",
      "Epoch 55/100\n",
      "42/42 [==============================] - 21s 504ms/step - loss: 1.9560e-04 - accuracy: 0.8072 - f1: 1.0000 - val_loss: 0.4358 - val_accuracy: 0.6594 - val_f1: 0.7868\n",
      "\n",
      "Epoch 00055: val_f1 did not improve from 0.78684\n",
      "Epoch 56/100\n",
      "42/42 [==============================] - 21s 506ms/step - loss: 2.8202e-04 - accuracy: 0.8126 - f1: 1.0000 - val_loss: 0.4364 - val_accuracy: 0.6594 - val_f1: 0.7878\n",
      "\n",
      "Epoch 00056: val_f1 improved from 0.78684 to 0.78776, saving model to reset_model.h5\n",
      "Epoch 57/100\n",
      "42/42 [==============================] - 21s 502ms/step - loss: 1.5989e-04 - accuracy: 0.8134 - f1: 1.0000 - val_loss: 0.4362 - val_accuracy: 0.6594 - val_f1: 0.7857\n",
      "\n",
      "Epoch 00057: val_f1 did not improve from 0.78776\n",
      "Epoch 58/100\n",
      "42/42 [==============================] - 21s 505ms/step - loss: 1.7622e-04 - accuracy: 0.8112 - f1: 1.0000 - val_loss: 0.4365 - val_accuracy: 0.6594 - val_f1: 0.7852\n",
      "\n",
      "Epoch 00058: val_f1 did not improve from 0.78776\n",
      "Epoch 59/100\n",
      "42/42 [==============================] - 21s 504ms/step - loss: 1.2941e-04 - accuracy: 0.8114 - f1: 1.0000 - val_loss: 0.4367 - val_accuracy: 0.6594 - val_f1: 0.7859\n",
      "\n",
      "Epoch 00059: val_f1 did not improve from 0.78776\n",
      "Epoch 60/100\n",
      "42/42 [==============================] - 21s 493ms/step - loss: 1.4219e-04 - accuracy: 0.8183 - f1: 1.0000 - val_loss: 0.4366 - val_accuracy: 0.6594 - val_f1: 0.7861\n",
      "\n",
      "Epoch 00060: val_f1 did not improve from 0.78776\n",
      "Epoch 61/100\n",
      "42/42 [==============================] - 22s 510ms/step - loss: 2.3432e-04 - accuracy: 0.8190 - f1: 1.0000 - val_loss: 0.4374 - val_accuracy: 0.6594 - val_f1: 0.7850\n",
      "\n",
      "Epoch 00061: val_f1 did not improve from 0.78776\n",
      "\n",
      "Epoch 00061: ReduceLROnPlateau reducing learning rate to 1.0000000656873453e-06.\n",
      "Epoch 62/100\n",
      "42/42 [==============================] - 21s 497ms/step - loss: 1.4703e-04 - accuracy: 0.8099 - f1: 1.0000 - val_loss: 0.4368 - val_accuracy: 0.6594 - val_f1: 0.7862\n",
      "\n",
      "Epoch 00062: val_f1 did not improve from 0.78776\n",
      "Epoch 63/100\n",
      "42/42 [==============================] - 21s 501ms/step - loss: 2.0995e-04 - accuracy: 0.8281 - f1: 1.0000 - val_loss: 0.4372 - val_accuracy: 0.6594 - val_f1: 0.7869\n",
      "\n",
      "Epoch 00063: val_f1 did not improve from 0.78776\n",
      "Epoch 64/100\n",
      "42/42 [==============================] - 21s 504ms/step - loss: 1.6512e-04 - accuracy: 0.8103 - f1: 1.0000 - val_loss: 0.4372 - val_accuracy: 0.6594 - val_f1: 0.7862\n",
      "\n",
      "Epoch 00064: val_f1 did not improve from 0.78776\n",
      "Epoch 65/100\n",
      "42/42 [==============================] - 21s 497ms/step - loss: 1.3439e-04 - accuracy: 0.8076 - f1: 1.0000 - val_loss: 0.4368 - val_accuracy: 0.6594 - val_f1: 0.7862\n",
      "\n",
      "Epoch 00065: val_f1 did not improve from 0.78776\n",
      "Epoch 66/100\n",
      "42/42 [==============================] - 21s 498ms/step - loss: 1.7028e-04 - accuracy: 0.8231 - f1: 1.0000 - val_loss: 0.4365 - val_accuracy: 0.6594 - val_f1: 0.7862\n",
      "\n",
      "Epoch 00066: val_f1 did not improve from 0.78776\n",
      "\n",
      "Epoch 00066: ReduceLROnPlateau reducing learning rate to 1.0000001111620805e-07.\n",
      "Epoch 67/100\n",
      "42/42 [==============================] - 21s 504ms/step - loss: 1.5736e-04 - accuracy: 0.8080 - f1: 1.0000 - val_loss: 0.4371 - val_accuracy: 0.6594 - val_f1: 0.7861\n",
      "\n",
      "Epoch 00067: val_f1 did not improve from 0.78776\n",
      "Epoch 68/100\n",
      "42/42 [==============================] - 21s 493ms/step - loss: 1.8426e-04 - accuracy: 0.8118 - f1: 1.0000 - val_loss: 0.4371 - val_accuracy: 0.6594 - val_f1: 0.7864\n",
      "\n",
      "Epoch 00068: val_f1 did not improve from 0.78776\n",
      "Epoch 69/100\n",
      "42/42 [==============================] - 21s 501ms/step - loss: 1.7091e-04 - accuracy: 0.8288 - f1: 1.0000 - val_loss: 0.4377 - val_accuracy: 0.6594 - val_f1: 0.7852\n",
      "\n",
      "Epoch 00069: val_f1 did not improve from 0.78776\n",
      "Epoch 70/100\n",
      "42/42 [==============================] - 21s 506ms/step - loss: 1.3002e-04 - accuracy: 0.8128 - f1: 1.0000 - val_loss: 0.4375 - val_accuracy: 0.6594 - val_f1: 0.7864\n",
      "\n",
      "Epoch 00070: val_f1 did not improve from 0.78776\n",
      "Epoch 71/100\n",
      "42/42 [==============================] - 21s 494ms/step - loss: 1.7194e-04 - accuracy: 0.8023 - f1: 1.0000 - val_loss: 0.4372 - val_accuracy: 0.6594 - val_f1: 0.7869\n",
      "\n",
      "Epoch 00071: val_f1 did not improve from 0.78776\n",
      "\n",
      "Epoch 00071: ReduceLROnPlateau reducing learning rate to 1.000000082740371e-08.\n",
      "Epoch 72/100\n",
      "42/42 [==============================] - 21s 503ms/step - loss: 1.5216e-04 - accuracy: 0.8254 - f1: 1.0000 - val_loss: 0.4366 - val_accuracy: 0.6594 - val_f1: 0.7869\n",
      "\n",
      "Epoch 00072: val_f1 did not improve from 0.78776\n",
      "Epoch 73/100\n",
      "42/42 [==============================] - 21s 504ms/step - loss: 1.6846e-04 - accuracy: 0.8163 - f1: 1.0000 - val_loss: 0.4365 - val_accuracy: 0.6594 - val_f1: 0.7868\n",
      "\n",
      "Epoch 00073: val_f1 did not improve from 0.78776\n",
      "Epoch 74/100\n",
      "42/42 [==============================] - 21s 497ms/step - loss: 1.8580e-04 - accuracy: 0.8112 - f1: 1.0000 - val_loss: 0.4367 - val_accuracy: 0.6594 - val_f1: 0.7864\n",
      "\n",
      "Epoch 00074: val_f1 did not improve from 0.78776\n",
      "Epoch 75/100\n",
      "42/42 [==============================] - 21s 508ms/step - loss: 1.7812e-04 - accuracy: 0.8196 - f1: 1.0000 - val_loss: 0.4369 - val_accuracy: 0.6594 - val_f1: 0.7864\n",
      "\n",
      "Epoch 00075: val_f1 did not improve from 0.78776\n",
      "Epoch 76/100\n",
      "42/42 [==============================] - 21s 500ms/step - loss: 1.5686e-04 - accuracy: 0.8151 - f1: 1.0000 - val_loss: 0.4371 - val_accuracy: 0.6594 - val_f1: 0.7864\n",
      "\n",
      "Epoch 00076: val_f1 did not improve from 0.78776\n",
      "\n",
      "Epoch 00076: ReduceLROnPlateau reducing learning rate to 1e-08.\n",
      "Epoch 77/100\n",
      "42/42 [==============================] - 21s 501ms/step - loss: 1.8292e-04 - accuracy: 0.8084 - f1: 1.0000 - val_loss: 0.4369 - val_accuracy: 0.6594 - val_f1: 0.7864\n",
      "\n",
      "Epoch 00077: val_f1 did not improve from 0.78776\n",
      "Epoch 78/100\n",
      "42/42 [==============================] - 21s 503ms/step - loss: 2.0940e-04 - accuracy: 0.8006 - f1: 1.0000 - val_loss: 0.4373 - val_accuracy: 0.6594 - val_f1: 0.7864\n",
      "\n",
      "Epoch 00078: val_f1 did not improve from 0.78776\n",
      "Epoch 79/100\n",
      "42/42 [==============================] - 21s 486ms/step - loss: 1.6389e-04 - accuracy: 0.8095 - f1: 1.0000 - val_loss: 0.4367 - val_accuracy: 0.6594 - val_f1: 0.7857\n",
      "\n",
      "Epoch 00079: val_f1 did not improve from 0.78776\n",
      "Epoch 80/100\n",
      "42/42 [==============================] - 21s 503ms/step - loss: 2.5897e-04 - accuracy: 0.8250 - f1: 1.0000 - val_loss: 0.4371 - val_accuracy: 0.6594 - val_f1: 0.7864\n",
      "\n",
      "Epoch 00080: val_f1 did not improve from 0.78776\n",
      "Epoch 81/100\n",
      "42/42 [==============================] - 21s 502ms/step - loss: 1.4398e-04 - accuracy: 0.8205 - f1: 1.0000 - val_loss: 0.4371 - val_accuracy: 0.6594 - val_f1: 0.7864\n",
      "\n",
      "Epoch 00081: val_f1 did not improve from 0.78776\n",
      "Epoch 82/100\n",
      "42/42 [==============================] - 21s 494ms/step - loss: 1.3593e-04 - accuracy: 0.8186 - f1: 1.0000 - val_loss: 0.4365 - val_accuracy: 0.6578 - val_f1: 0.7866\n",
      "\n",
      "Epoch 00082: val_f1 did not improve from 0.78776\n",
      "Epoch 83/100\n",
      "42/42 [==============================] - 21s 502ms/step - loss: 1.3977e-04 - accuracy: 0.8123 - f1: 1.0000 - val_loss: 0.4371 - val_accuracy: 0.6594 - val_f1: 0.7857\n",
      "\n",
      "Epoch 00083: val_f1 did not improve from 0.78776\n",
      "Epoch 84/100\n",
      "42/42 [==============================] - 21s 505ms/step - loss: 1.7281e-04 - accuracy: 0.8185 - f1: 1.0000 - val_loss: 0.4374 - val_accuracy: 0.6594 - val_f1: 0.7857\n",
      "\n",
      "Epoch 00084: val_f1 did not improve from 0.78776\n",
      "Epoch 85/100\n",
      "42/42 [==============================] - 21s 495ms/step - loss: 1.7487e-04 - accuracy: 0.8208 - f1: 1.0000 - val_loss: 0.4374 - val_accuracy: 0.6594 - val_f1: 0.7852\n",
      "\n",
      "Epoch 00085: val_f1 did not improve from 0.78776\n",
      "Epoch 86/100\n",
      "42/42 [==============================] - 21s 507ms/step - loss: 1.5847e-04 - accuracy: 0.8076 - f1: 1.0000 - val_loss: 0.4372 - val_accuracy: 0.6594 - val_f1: 0.7857\n",
      "\n",
      "Epoch 00086: val_f1 did not improve from 0.78776\n",
      "Epoch 87/100\n",
      "42/42 [==============================] - 21s 500ms/step - loss: 1.6092e-04 - accuracy: 0.8250 - f1: 1.0000 - val_loss: 0.4370 - val_accuracy: 0.6594 - val_f1: 0.7857\n",
      "\n",
      "Epoch 00087: val_f1 did not improve from 0.78776\n",
      "Epoch 88/100\n",
      "42/42 [==============================] - 21s 497ms/step - loss: 1.7738e-04 - accuracy: 0.7982 - f1: 1.0000 - val_loss: 0.4369 - val_accuracy: 0.6594 - val_f1: 0.7861\n",
      "\n",
      "Epoch 00088: val_f1 did not improve from 0.78776\n",
      "Epoch 89/100\n",
      "42/42 [==============================] - 21s 509ms/step - loss: 2.1381e-04 - accuracy: 0.8221 - f1: 1.0000 - val_loss: 0.4371 - val_accuracy: 0.6594 - val_f1: 0.7850\n",
      "\n",
      "Epoch 00089: val_f1 did not improve from 0.78776\n",
      "Epoch 90/100\n",
      "42/42 [==============================] - 21s 495ms/step - loss: 1.6110e-04 - accuracy: 0.8346 - f1: 1.0000 - val_loss: 0.4369 - val_accuracy: 0.6594 - val_f1: 0.7854\n",
      "\n",
      "Epoch 00090: val_f1 did not improve from 0.78776\n",
      "Epoch 91/100\n",
      "42/42 [==============================] - 21s 498ms/step - loss: 2.7553e-04 - accuracy: 0.8193 - f1: 1.0000 - val_loss: 0.4374 - val_accuracy: 0.6594 - val_f1: 0.7852\n",
      "\n",
      "Epoch 00091: val_f1 did not improve from 0.78776\n",
      "Epoch 92/100\n",
      "42/42 [==============================] - 21s 500ms/step - loss: 1.6692e-04 - accuracy: 0.8195 - f1: 1.0000 - val_loss: 0.4366 - val_accuracy: 0.6594 - val_f1: 0.7864\n",
      "\n",
      "Epoch 00092: val_f1 did not improve from 0.78776\n",
      "Epoch 93/100\n",
      "42/42 [==============================] - 21s 491ms/step - loss: 1.7711e-04 - accuracy: 0.8113 - f1: 1.0000 - val_loss: 0.4370 - val_accuracy: 0.6594 - val_f1: 0.7864\n",
      "\n",
      "Epoch 00093: val_f1 did not improve from 0.78776\n",
      "Epoch 94/100\n",
      "42/42 [==============================] - 21s 502ms/step - loss: 1.5714e-04 - accuracy: 0.7957 - f1: 1.0000 - val_loss: 0.4368 - val_accuracy: 0.6594 - val_f1: 0.7864\n",
      "\n",
      "Epoch 00094: val_f1 did not improve from 0.78776\n",
      "Epoch 95/100\n",
      "42/42 [==============================] - 21s 504ms/step - loss: 1.5391e-04 - accuracy: 0.8218 - f1: 1.0000 - val_loss: 0.4367 - val_accuracy: 0.6594 - val_f1: 0.7864\n",
      "\n",
      "Epoch 00095: val_f1 did not improve from 0.78776\n",
      "Epoch 96/100\n",
      "42/42 [==============================] - 21s 494ms/step - loss: 1.3126e-04 - accuracy: 0.8222 - f1: 1.0000 - val_loss: 0.4370 - val_accuracy: 0.6594 - val_f1: 0.7864\n",
      "\n",
      "Epoch 00096: val_f1 did not improve from 0.78776\n",
      "Epoch 97/100\n",
      "42/42 [==============================] - 21s 504ms/step - loss: 3.3373e-04 - accuracy: 0.8100 - f1: 0.9996 - val_loss: 0.4374 - val_accuracy: 0.6594 - val_f1: 0.7869\n",
      "\n",
      "Epoch 00097: val_f1 did not improve from 0.78776\n",
      "Epoch 98/100\n",
      "42/42 [==============================] - 21s 504ms/step - loss: 1.2988e-04 - accuracy: 0.8232 - f1: 1.0000 - val_loss: 0.4376 - val_accuracy: 0.6594 - val_f1: 0.7859\n",
      "\n",
      "Epoch 00098: val_f1 did not improve from 0.78776\n",
      "Epoch 99/100\n",
      "42/42 [==============================] - 21s 495ms/step - loss: 1.5456e-04 - accuracy: 0.8201 - f1: 1.0000 - val_loss: 0.4377 - val_accuracy: 0.6594 - val_f1: 0.7864\n",
      "\n",
      "Epoch 00099: val_f1 did not improve from 0.78776\n",
      "Epoch 100/100\n",
      "42/42 [==============================] - 21s 506ms/step - loss: 1.6283e-04 - accuracy: 0.8105 - f1: 1.0000 - val_loss: 0.4379 - val_accuracy: 0.6594 - val_f1: 0.7869\n",
      "\n",
      "Epoch 00100: val_f1 did not improve from 0.78776\n"
     ]
    }
   ],
   "source": [
    "resnet_history = resnet_model.fit_generator(train_gen,\n",
    "                                  steps_per_epoch=steps_per_epoch,\n",
    "                                  epochs= MAX_EPOCHS,\n",
    "                                  verbose=1,\n",
    "                                  validation_data=val_gen,\n",
    "                                  validation_steps=validation_steps,\n",
    "                                  callbacks=resnet_callbacks\n",
    "                             )"
   ]
  },
  {
   "cell_type": "code",
   "execution_count": 47,
   "metadata": {
    "execution": {
     "iopub.execute_input": "2021-12-07T17:48:57.452432Z",
     "iopub.status.busy": "2021-12-07T17:48:57.452188Z",
     "iopub.status.idle": "2021-12-07T17:48:58.300065Z",
     "shell.execute_reply": "2021-12-07T17:48:58.299252Z",
     "shell.execute_reply.started": "2021-12-07T17:48:57.452398Z"
    }
   },
   "outputs": [],
   "source": [
    "resnet_model.save(os.path.join(\"./\",\"final_resnet50_model.h5\"))"
   ]
  },
  {
   "cell_type": "code",
   "execution_count": 48,
   "metadata": {
    "execution": {
     "iopub.execute_input": "2021-12-07T17:48:58.301805Z",
     "iopub.status.busy": "2021-12-07T17:48:58.301531Z",
     "iopub.status.idle": "2021-12-07T17:49:02.408626Z",
     "shell.execute_reply": "2021-12-07T17:49:02.407952Z",
     "shell.execute_reply.started": "2021-12-07T17:48:58.301775Z"
    }
   },
   "outputs": [
    {
     "name": "stdout",
     "output_type": "stream",
     "text": [
      "11/11 [==============================] - 4s 341ms/step - loss: 0.4392 - accuracy: 0.6565 - f1: 0.7822\n"
     ]
    },
    {
     "data": {
      "text/plain": [
       "[0.43918582797050476, 0.6564774513244629, 0.7822424173355103]"
      ]
     },
     "execution_count": 48,
     "metadata": {},
     "output_type": "execute_result"
    }
   ],
   "source": [
    "resnet_model.evaluate(val_gen,batch_size=20)"
   ]
  },
  {
   "cell_type": "code",
   "execution_count": 49,
   "metadata": {
    "execution": {
     "iopub.execute_input": "2021-12-07T17:49:02.411848Z",
     "iopub.status.busy": "2021-12-07T17:49:02.411141Z",
     "iopub.status.idle": "2021-12-07T17:49:02.634380Z",
     "shell.execute_reply": "2021-12-07T17:49:02.633666Z",
     "shell.execute_reply.started": "2021-12-07T17:49:02.411812Z"
    }
   },
   "outputs": [
    {
     "data": {
      "image/png": "[encoded data removed]",
      "text/plain": [
       "<Figure size 432x288 with 1 Axes>"
      ]
     },
     "metadata": {
      "needs_background": "light"
     },
     "output_type": "display_data"
    },
    {
     "data": {
      "text/plain": [
       "<Figure size 432x288 with 0 Axes>"
      ]
     },
     "metadata": {},
     "output_type": "display_data"
    }
   ],
   "source": [
    "plt.plot(inception_history.history['accuracy'])\n",
    "plt.plot(inception_history.history['val_accuracy'])\n",
    "plt.title('inception model accuracy')\n",
    "plt.ylabel('accuracy')\n",
    "plt.xlabel('epoch')\n",
    "plt.legend(['train', 'validation'], loc='upper left')\n",
    "plt.show()\n",
    "plt.savefig('inception_model_accuracy.png')"
   ]
  },
  {
   "cell_type": "code",
   "execution_count": 50,
   "metadata": {
    "execution": {
     "iopub.execute_input": "2021-12-07T17:49:02.636094Z",
     "iopub.status.busy": "2021-12-07T17:49:02.635604Z",
     "iopub.status.idle": "2021-12-07T17:49:02.878124Z",
     "shell.execute_reply": "2021-12-07T17:49:02.877364Z",
     "shell.execute_reply.started": "2021-12-07T17:49:02.636057Z"
    }
   },
   "outputs": [
    {
     "data": {
      "image/png": "[encoded data removed]",
      "text/plain": [
       "<Figure size 432x288 with 1 Axes>"
      ]
     },
     "metadata": {
      "needs_background": "light"
     },
     "output_type": "display_data"
    },
    {
     "data": {
      "text/plain": [
       "<Figure size 432x288 with 0 Axes>"
      ]
     },
     "metadata": {},
     "output_type": "display_data"
    }
   ],
   "source": [
    "plt.plot(inception_history.history['loss'])\n",
    "plt.plot(inception_history.history['val_loss'])\n",
    "plt.title('inception model loss')\n",
    "plt.ylabel('loss')\n",
    "plt.xlabel('epoch')\n",
    "plt.legend(['train', 'validation'], loc='upper right')\n",
    "plt.show()\n",
    "plt.savefig('inception_model_loss.png')"
   ]
  },
  {
   "cell_type": "code",
   "execution_count": 51,
   "metadata": {
    "execution": {
     "iopub.execute_input": "2021-12-07T17:49:02.879499Z",
     "iopub.status.busy": "2021-12-07T17:49:02.879270Z",
     "iopub.status.idle": "2021-12-07T17:49:03.091053Z",
     "shell.execute_reply": "2021-12-07T17:49:03.090403Z",
     "shell.execute_reply.started": "2021-12-07T17:49:02.879469Z"
    }
   },
   "outputs": [
    {
     "data": {
      "image/png": "[encoded data removed]",
      "text/plain": [
       "<Figure size 432x288 with 1 Axes>"
      ]
     },
     "metadata": {
      "needs_background": "light"
     },
     "output_type": "display_data"
    },
    {
     "data": {
      "text/plain": [
       "<Figure size 432x288 with 0 Axes>"
      ]
     },
     "metadata": {},
     "output_type": "display_data"
    }
   ],
   "source": [
    "plt.plot(efficient_history.history['accuracy'])\n",
    "plt.plot(efficient_history.history['val_accuracy'])\n",
    "plt.title('efficient model accuracy')\n",
    "plt.ylabel('efficient accuracy')\n",
    "plt.xlabel('epoch')\n",
    "plt.legend(['train', 'validation'], loc='upper left')\n",
    "plt.show()\n",
    "plt.savefig('efficient_model_accuracy.png')"
   ]
  },
  {
   "cell_type": "code",
   "execution_count": 52,
   "metadata": {
    "execution": {
     "iopub.execute_input": "2021-12-07T17:49:03.092285Z",
     "iopub.status.busy": "2021-12-07T17:49:03.092061Z",
     "iopub.status.idle": "2021-12-07T17:49:03.297181Z",
     "shell.execute_reply": "2021-12-07T17:49:03.296563Z",
     "shell.execute_reply.started": "2021-12-07T17:49:03.092255Z"
    }
   },
   "outputs": [
    {
     "data": {
      "image/png": "[encoded data removed]",
      "text/plain": [
       "<Figure size 432x288 with 1 Axes>"
      ]
     },
     "metadata": {
      "needs_background": "light"
     },
     "output_type": "display_data"
    },
    {
     "data": {
      "text/plain": [
       "<Figure size 432x288 with 0 Axes>"
      ]
     },
     "metadata": {},
     "output_type": "display_data"
    }
   ],
   "source": [
    "plt.plot(efficient_history.history['loss'])\n",
    "plt.plot(efficient_history.history['val_loss'])\n",
    "plt.title('efficient model loss')\n",
    "plt.ylabel('efficient loss')\n",
    "plt.xlabel('epoch')\n",
    "plt.legend(['train', 'validation'], loc='upper right')\n",
    "plt.show()\n",
    "plt.savefig('efficient_model_loss.png')"
   ]
  },
  {
   "cell_type": "code",
   "execution_count": 53,
   "metadata": {
    "execution": {
     "iopub.execute_input": "2021-12-07T17:49:03.298896Z",
     "iopub.status.busy": "2021-12-07T17:49:03.298186Z",
     "iopub.status.idle": "2021-12-07T17:49:03.506728Z",
     "shell.execute_reply": "2021-12-07T17:49:03.506117Z",
     "shell.execute_reply.started": "2021-12-07T17:49:03.298857Z"
    }
   },
   "outputs": [
    {
     "data": {
      "image/png": "[encoded data removed]",
      "text/plain": [
       "<Figure size 432x288 with 1 Axes>"
      ]
     },
     "metadata": {
      "needs_background": "light"
     },
     "output_type": "display_data"
    },
    {
     "data": {
      "text/plain": [
       "<Figure size 432x288 with 0 Axes>"
      ]
     },
     "metadata": {},
     "output_type": "display_data"
    }
   ],
   "source": [
    "plt.plot(resnet_history.history['accuracy'])\n",
    "plt.plot(resnet_history.history['val_accuracy'])\n",
    "plt.title('resnet model accuracy')\n",
    "plt.ylabel('accuracy')\n",
    "plt.xlabel('epoch')\n",
    "plt.legend(['train', 'validation'], loc='upper left')\n",
    "plt.show()\n",
    "plt.savefig('resnet_model_accuracy.png')"
   ]
  },
  {
   "cell_type": "code",
   "execution_count": 54,
   "metadata": {
    "execution": {
     "iopub.execute_input": "2021-12-07T17:49:03.508859Z",
     "iopub.status.busy": "2021-12-07T17:49:03.508471Z",
     "iopub.status.idle": "2021-12-07T17:49:04.074401Z",
     "shell.execute_reply": "2021-12-07T17:49:04.073367Z",
     "shell.execute_reply.started": "2021-12-07T17:49:03.508829Z"
    }
   },
   "outputs": [
    {
     "data": {
      "image/png": "[encoded data removed]",
      "text/plain": [
       "<Figure size 432x288 with 1 Axes>"
      ]
     },
     "metadata": {
      "needs_background": "light"
     },
     "output_type": "display_data"
    },
    {
     "data": {
      "text/plain": [
       "<Figure size 432x288 with 0 Axes>"
      ]
     },
     "metadata": {},
     "output_type": "display_data"
    }
   ],
   "source": [
    "plt.plot(resnet_history.history['loss'])\n",
    "plt.plot(resnet_history.history['val_loss'])\n",
    "plt.title('resnet model loss')\n",
    "plt.ylabel('loss')\n",
    "plt.xlabel('epoch')\n",
    "plt.legend(['train', 'validation'], loc='upper right')\n",
    "plt.show()\n",
    "plt.savefig('resnet_model_loss.png')"
   ]
  },
  {
   "cell_type": "code",
   "execution_count": 58,
   "metadata": {
    "execution": {
     "iopub.execute_input": "2021-12-07T17:51:45.480110Z",
     "iopub.status.busy": "2021-12-07T17:51:45.479553Z",
     "iopub.status.idle": "2021-12-07T17:51:46.869287Z",
     "shell.execute_reply": "2021-12-07T17:51:46.868593Z",
     "shell.execute_reply.started": "2021-12-07T17:51:45.480078Z"
    }
   },
   "outputs": [],
   "source": [
    "ensemble_models = [inception_model ,efficient_model, resnet_model]\n",
    "ensemble_input = tf.keras.Input(shape=(IMAGE_SIZE, IMAGE_SIZE, 3))\n",
    "ensemble_outputs = [ensemble_model(ensemble_input) for ensemble_model in ensemble_models]\n",
    "ensemble_output = tf.keras.layers.Average()(ensemble_outputs)\n",
    "ensemble_model = tf.keras.Model(inputs=ensemble_input, outputs=ensemble_output)"
   ]
  },
  {
   "cell_type": "code",
   "execution_count": 61,
   "metadata": {
    "execution": {
     "iopub.execute_input": "2021-12-07T17:55:03.834550Z",
     "iopub.status.busy": "2021-12-07T17:55:03.834275Z",
     "iopub.status.idle": "2021-12-07T17:55:03.912035Z",
     "shell.execute_reply": "2021-12-07T17:55:03.911301Z",
     "shell.execute_reply.started": "2021-12-07T17:55:03.834508Z"
    }
   },
   "outputs": [
    {
     "name": "stdout",
     "output_type": "stream",
     "text": [
      "Model: \"model\"\n",
      "__________________________________________________________________________________________________\n",
      "Layer (type)                    Output Shape         Param #     Connected to                     \n",
      "==================================================================================================\n",
      "input_17 (InputLayer)           [(None, 224, 224, 3) 0                                            \n",
      "__________________________________________________________________________________________________\n",
      "inception_v3_model (Functional) (None, 7)            21817127    input_17[0][0]                   \n",
      "__________________________________________________________________________________________________\n",
      "EfficientNetB0_model (Functiona (None, 7)            4130218     input_17[0][0]                   \n",
      "__________________________________________________________________________________________________\n",
      "Resnet50_model (Functional)     (None, 7)            23602055    input_17[0][0]                   \n",
      "__________________________________________________________________________________________________\n",
      "average (Average)               (None, 7)            0           inception_v3_model[0][0]         \n",
      "                                                                 EfficientNetB0_model[0][0]       \n",
      "                                                                 Resnet50_model[0][0]             \n",
      "==================================================================================================\n",
      "Total params: 49,549,400\n",
      "Trainable params: 49,419,825\n",
      "Non-trainable params: 129,575\n",
      "__________________________________________________________________________________________________\n"
     ]
    }
   ],
   "source": [
    "ensemble_model.compile(optimizer=keras.optimizers.Adam(lr=LEARNING_RATE), \n",
    "              loss='binary_crossentropy', \n",
    "              metrics=['accuracy',f1,CohenKappa(num_classes=7)])\n",
    "ensemble_model.summary()"
   ]
  },
  {
   "cell_type": "code",
   "execution_count": 78,
   "metadata": {
    "execution": {
     "iopub.execute_input": "2021-12-07T18:00:42.242163Z",
     "iopub.status.busy": "2021-12-07T18:00:42.241649Z",
     "iopub.status.idle": "2021-12-07T18:00:43.549397Z",
     "shell.execute_reply": "2021-12-07T18:00:43.548564Z",
     "shell.execute_reply.started": "2021-12-07T18:00:42.242128Z"
    }
   },
   "outputs": [],
   "source": [
    "ensemble_model.save(os.path.join(\"./\",\"ensemble_model.h5\"))"
   ]
  },
  {
   "cell_type": "code",
   "execution_count": 63,
   "metadata": {
    "execution": {
     "iopub.execute_input": "2021-12-07T17:55:15.922974Z",
     "iopub.status.busy": "2021-12-07T17:55:15.922543Z",
     "iopub.status.idle": "2021-12-07T17:55:26.667196Z",
     "shell.execute_reply": "2021-12-07T17:55:26.666514Z",
     "shell.execute_reply.started": "2021-12-07T17:55:15.922940Z"
    }
   },
   "outputs": [
    {
     "name": "stdout",
     "output_type": "stream",
     "text": [
      "11/11 [==============================] - 10s 364ms/step - loss: 0.2288 - accuracy: 0.7260 - f1: 0.8313 - cohen_kappa: 0.6667\n"
     ]
    },
    {
     "data": {
      "text/plain": [
       "[0.2391616851091385,\n",
       " 0.6972343325614929,\n",
       " 0.8297601342201233,\n",
       " 0.6319683790206909]"
      ]
     },
     "execution_count": 63,
     "metadata": {},
     "output_type": "execute_result"
    }
   ],
   "source": [
    "ensemble_model.evaluate(val_gen,batch_size=20)"
   ]
  },
  {
   "cell_type": "code",
   "execution_count": 64,
   "metadata": {
    "execution": {
     "iopub.execute_input": "2021-12-07T17:56:00.934723Z",
     "iopub.status.busy": "2021-12-07T17:56:00.934420Z",
     "iopub.status.idle": "2021-12-07T17:56:08.346455Z",
     "shell.execute_reply": "2021-12-07T17:56:08.345704Z",
     "shell.execute_reply.started": "2021-12-07T17:56:00.934693Z"
    }
   },
   "outputs": [
    {
     "name": "stdout",
     "output_type": "stream",
     "text": [
      "[[0, 3], [5], [5, 1], [4], [3], [1], [1], [5, 0, 3], [4], [4], [0, 3], [2], [5], [5], [5, 0, 3], [5, 2], [1, 6], [6], [2], [4], [5], [5], [4], [0, 3], [1], [0], [5], [6], [0], [5, 2], [0], [0], [0], [4], [5, 6], [5, 2], [4], [4], [1], [2], [5], [5, 0], [2], [2], [2], [2], [5, 0, 3, 2], [4], [4], [5], [5], [5, 0, 3], [5, 1], [2], [4], [6], [0], [5], [4], [6], [4], [1], [5, 6], [0, 3], [1], [4], [3], [4], [4], [0, 6], [0], [2], [0, 3], [5, 2], [5], [0, 3], [5], [5, 2], [5], [5], [5, 2], [1], [4], [4], [4], [5, 0], [5], [0, 3], [5], [1], [0, 3], [5], [4], [5], [5, 0, 3], [4], [0], [5, 2], [5, 3, 6], [6], [5, 2], [0, 3], [5, 0, 3], [2], [5], [4], [4], [0], [4], [5], [5, 2], [5, 0, 3], [5], [5, 6], [5, 1, 6], [2], [5, 1], [5, 1], [0], [6], [0], [5], [5, 1], [5], [5, 1], [5, 2], [2], [5, 1], [4], [5, 0], [1], [4], [5, 1, 2], [4], [6], [1], [5, 3, 6], [5], [1, 3, 6], [5, 0], [5, 1, 6], [5], [0, 3], [5, 0, 3], [4], [5, 2], [1], [5, 0], [5], [4], [5], [1], [5, 0, 6], [5], [5, 0, 3], [2], [5], [1], [5, 2], [5, 2], [5], [2], [5, 0, 3], [1], [6], [4], [1, 2], [3, 6], [6], [5], [3, 6], [0, 3], [5], [6], [1], [4], [5, 0], [0], [4], [5], [6], [3, 6], [0], [5, 1], [5, 1], [1], [5, 1], [4], [5, 0], [5, 6], [2], [6], [5], [6], [0, 3], [5, 0, 3], [6], [0, 3], [5], [0], [2], [3], [2], [5], [1], [1, 2], [6], [0, 3], [5], [0], [5, 2], [5], [0], [5], [1], [3], [5], [1], [5, 0], [5, 1], [1], [5, 2], [5], [1, 2], [5], [4], [5], [5, 2], [0, 3], [5, 0], [5, 0], [0], [5, 2], [5], [5, 0, 3], [5], [6], [4], [5, 6], [0], [5, 0, 3], [5, 3, 6], [5, 1, 3, 6], [5], [0], [0], [5, 0], [5, 0], [5, 2], [5], [4], [5], [5, 2], [0], [4], [2], [1], [5, 0, 3], [5], [5], [4], [5, 6], [5, 0, 3], [5, 2], [5], [2], [5, 2], [1], [5], [5, 2], [3], [4], [5, 0], [5], [5], [4], [5, 0], [1], [5, 6], [2], [5], [2], [5], [1], [5, 6], [5], [4], [5, 0], [1, 3], [5], [5, 0], [0], [1, 2], [5, 2, 6], [0, 3], [4], [2], [2], [2], [5, 3, 6], [4], [5, 0], [0, 3], [4], [5], [1], [5, 2], [4], [5], [4], [6], [0], [4], [2], [4], [0, 3], [5, 0, 3], [0, 3], [1], [5, 2], [5, 0], [0], [2], [5], [0, 3], [0], [0, 3], [1], [1, 2, 6], [4], [5], [6], [5], [5, 0, 3], [4], [1], [5, 2], [5], [0], [6], [5, 1], [6], [5, 0, 3], [6], [5, 0, 3], [5], [6], [1, 2], [0, 3], [4], [0], [5, 2], [5, 0], [5], [5], [4], [1], [5, 2], [5], [5, 3, 6], [5], [0, 3], [2], [3, 6], [0], [6], [3, 6], [5, 3, 6], [4], [5, 0], [5], [6], [5, 1, 2], [4], [1, 2], [1, 6], [4], [0, 3], [1], [4], [5], [2], [5], [4], [5, 0], [4], [5, 3, 6], [5, 0, 3], [0], [4], [5, 6], [5, 1], [5, 2], [3], [5, 0, 3], [4], [4], [4], [5, 2], [5], [2], [5, 0], [2], [5, 6], [5], [1], [4], [5, 2], [2], [5, 0], [4], [4], [5, 0], [5, 2], [0, 1], [3], [5, 0, 3], [5], [1], [2], [5, 1], [6], [4], [2], [2], [5, 6], [1], [2], [4], [5, 2], [2], [5], [5, 1], [0], [0], [4], [5, 2], [4], [5], [0, 3], [1], [4], [6], [5, 3, 6], [1], [0], [1], [5, 0, 3], [0, 3], [4], [0, 1], [1], [2], [3, 6], [5], [0], [5, 2], [0], [5, 0, 3], [2], [6], [4], [5], [5], [2], [5], [4], [0], [3], [4], [6], [2], [5, 0], [5, 1], [2], [4], [1], [1], [5, 6], [5], [1], [2], [5], [5], [5], [0, 3], [0, 3], [5, 2], [5, 6], [4], [5, 0, 3], [5], [4], [0], [5], [2], [5, 1], [1], [0, 3], [4], [5], [5, 3, 6], [4], [1], [1], [2], [4], [2], [5, 3, 6], [5, 2], [4], [3], [4], [0], [5], [5], [5], [2], [5, 0, 6], [2], [5], [2], [5], [5, 1], [5], [5, 1], [5, 2], [5], [1], [0], [5], [5], [5], [5], [4], [5, 0, 3], [5], [5], [1, 3, 6], [5], [1], [5], [4], [5, 1], [0, 3], [5], [5, 1], [2], [0, 3], [4], [5], [2], [4], [5, 6], [2], [2], [3, 6], [5, 0, 3], [3, 6], [4], [5, 2], [5, 0], [6], [5], [0, 3], [5], [2], [5], [4], [5], [4], [5, 1], [5], [1], [3, 6], [0, 3], [5, 1], [2], [5, 2], [5, 6], [5, 3, 6], [4], [5, 2], [1], [3, 6], [2], [0], [6], [5, 2], [4], [1], [2], [4], [5], [1, 6], [2], [5], [5, 0], [5, 3, 6], [5], [6], [3, 6], [5, 1, 2], [5], [5], [4], [5], [1], [5, 3, 6], [5], [4], [3], [3, 6], [5], [5, 0, 3], [2], [5, 6], [2], [2], [1, 2], [0, 3], [5], [4], [4], [5, 0, 3], [0, 3], [1], [5], [4], [5, 1], [5, 1], [6], [3, 6], [3, 6], [5, 1], [4], [5, 0, 3], [1], [6], [5], [4], [2], [5, 0, 3], [5], [2], [1], [5], [2], [4], [0], [4], [5], [5], [4], [5, 2], [5, 0, 3], [5], [5], [0], [5, 1], [3], [5, 1, 2], [5, 2], [0, 3], [3, 6], [5], [2], [2], [0], [4], [0], [5, 2], [5, 2], [5], [1], [5, 2], [5, 1], [6], [5, 0], [5, 0], [2], [5, 2], [5], [4], [5, 0, 3], [1], [2]]\n",
      "[[1 0 0 ... 0 0 0]\n",
      " [0 0 0 ... 0 1 0]\n",
      " [0 1 0 ... 0 1 0]\n",
      " ...\n",
      " [1 0 0 ... 0 1 0]\n",
      " [0 1 0 ... 0 0 0]\n",
      " [0 0 1 ... 0 0 0]]\n"
     ]
    }
   ],
   "source": [
    "from sklearn.metrics import multilabel_confusion_matrix\n",
    "\n",
    "pred = ensemble_model.predict(val_gen)\n",
    "pred_bool = (pred>0.5)\n",
    "y_pred =  pred_bool.astype(int)\n",
    "\n",
    "\n",
    "truth = val_gen.classes\n",
    "print(truth)\n",
    "true= np.zeros(np.shape(pred), dtype=int)\n",
    "for i in range(len(true)):\n",
    "    for j in truth[i]:\n",
    "        true[i][j] = 1\n",
    "print(true)\n",
    "\n",
    "\n",
    "cm=multilabel_confusion_matrix(true, y_pred)"
   ]
  },
  {
   "cell_type": "code",
   "execution_count": 65,
   "metadata": {
    "execution": {
     "iopub.execute_input": "2021-12-07T17:56:11.614878Z",
     "iopub.status.busy": "2021-12-07T17:56:11.614150Z",
     "iopub.status.idle": "2021-12-07T17:56:13.084393Z",
     "shell.execute_reply": "2021-12-07T17:56:13.083562Z",
     "shell.execute_reply.started": "2021-12-07T17:56:11.614843Z"
    }
   },
   "outputs": [
    {
     "data": {
      "image/png": "[encoded data removed]",
      "text/plain": [
       "<Figure size 432x288 with 2 Axes>"
      ]
     },
     "metadata": {
      "needs_background": "light"
     },
     "output_type": "display_data"
    },
    {
     "data": {
      "text/plain": [
       "<Figure size 432x288 with 0 Axes>"
      ]
     },
     "metadata": {},
     "output_type": "display_data"
    },
    {
     "data": {
      "image/png": "[encoded data removed]",
      "text/plain": [
       "<Figure size 432x288 with 2 Axes>"
      ]
     },
     "metadata": {
      "needs_background": "light"
     },
     "output_type": "display_data"
    },
    {
     "data": {
      "text/plain": [
       "<Figure size 432x288 with 0 Axes>"
      ]
     },
     "metadata": {},
     "output_type": "display_data"
    },
    {
     "data": {
      "image/png": "[encoded data removed]",
      "text/plain": [
       "<Figure size 432x288 with 2 Axes>"
      ]
     },
     "metadata": {
      "needs_background": "light"
     },
     "output_type": "display_data"
    },
    {
     "data": {
      "text/plain": [
       "<Figure size 432x288 with 0 Axes>"
      ]
     },
     "metadata": {},
     "output_type": "display_data"
    },
    {
     "data": {
      "image/png": "[encoded data removed]",
      "text/plain": [
       "<Figure size 432x288 with 2 Axes>"
      ]
     },
     "metadata": {
      "needs_background": "light"
     },
     "output_type": "display_data"
    },
    {
     "data": {
      "text/plain": [
       "<Figure size 432x288 with 0 Axes>"
      ]
     },
     "metadata": {},
     "output_type": "display_data"
    },
    {
     "data": {
      "image/png": "[encoded data removed]",
      "text/plain": [
       "<Figure size 432x288 with 2 Axes>"
      ]
     },
     "metadata": {
      "needs_background": "light"
     },
     "output_type": "display_data"
    },
    {
     "data": {
      "text/plain": [
       "<Figure size 432x288 with 0 Axes>"
      ]
     },
     "metadata": {},
     "output_type": "display_data"
    },
    {
     "data": {
      "image/png": "[encoded data removed]",
      "text/plain": [
       "<Figure size 432x288 with 2 Axes>"
      ]
     },
     "metadata": {
      "needs_background": "light"
     },
     "output_type": "display_data"
    },
    {
     "data": {
      "text/plain": [
       "<Figure size 432x288 with 0 Axes>"
      ]
     },
     "metadata": {},
     "output_type": "display_data"
    },
    {
     "data": {
      "image/png": "[encoded data removed]",
      "text/plain": [
       "<Figure size 432x288 with 2 Axes>"
      ]
     },
     "metadata": {
      "needs_background": "light"
     },
     "output_type": "display_data"
    },
    {
     "data": {
      "text/plain": [
       "<Figure size 432x288 with 0 Axes>"
      ]
     },
     "metadata": {},
     "output_type": "display_data"
    }
   ],
   "source": [
    "from sklearn.metrics import ConfusionMatrixDisplay\n",
    "matrix = cm\n",
    "\n",
    "disease = np.array([\"opacity\",\t\"diabetic retinopathy\",\t\"glaucoma\",\t\n",
    "                    \"macular edema\",\t\"macular degeneration\",\t\n",
    "                    \"retinal vascular occlusion\",\t\"normal\"])\n",
    "\n",
    "for i in range(7):\n",
    "    disp = ConfusionMatrixDisplay(matrix[i], display_labels=['present', 'not present'])\n",
    "    disp.plot(values_format='d')\n",
    "    disp.ax_.set_title(f'class {disease[i]}')\n",
    "    plt.show()\n",
    "    plt.savefig('confusion_matrix_{}.png'.format(disease[i]))"
   ]
  },
  {
   "cell_type": "code",
   "execution_count": 67,
   "metadata": {
    "execution": {
     "iopub.execute_input": "2021-12-07T17:57:05.079254Z",
     "iopub.status.busy": "2021-12-07T17:57:05.078610Z",
     "iopub.status.idle": "2021-12-07T17:57:05.105312Z",
     "shell.execute_reply": "2021-12-07T17:57:05.104512Z",
     "shell.execute_reply.started": "2021-12-07T17:57:05.079218Z"
    }
   },
   "outputs": [
    {
     "data": {
      "text/html": [
       "<div>\n",
       "<style scoped>\n",
       "    .dataframe tbody tr th:only-of-type {\n",
       "        vertical-align: middle;\n",
       "    }\n",
       "\n",
       "    .dataframe tbody tr th {\n",
       "        vertical-align: top;\n",
       "    }\n",
       "\n",
       "    .dataframe thead th {\n",
       "        text-align: right;\n",
       "    }\n",
       "</style>\n",
       "<table border=\"1\" class=\"dataframe\">\n",
       "  <thead>\n",
       "    <tr style=\"text-align: right;\">\n",
       "      <th></th>\n",
       "      <th>filename</th>\n",
       "      <th>predicted</th>\n",
       "    </tr>\n",
       "  </thead>\n",
       "  <tbody>\n",
       "    <tr>\n",
       "      <th>0</th>\n",
       "      <td>e742d34a26d4.jpg</td>\n",
       "      <td>0 0</td>\n",
       "    </tr>\n",
       "    <tr>\n",
       "      <th>1</th>\n",
       "      <td>b193b6a6d68d.jpg</td>\n",
       "      <td>0 0</td>\n",
       "    </tr>\n",
       "    <tr>\n",
       "      <th>2</th>\n",
       "      <td>07e4191fa3a8.jpg</td>\n",
       "      <td>0 0</td>\n",
       "    </tr>\n",
       "    <tr>\n",
       "      <th>3</th>\n",
       "      <td>b1a911cb2e6c.jpg</td>\n",
       "      <td>0 0</td>\n",
       "    </tr>\n",
       "    <tr>\n",
       "      <th>4</th>\n",
       "      <td>d8ab9cda1b33.jpg</td>\n",
       "      <td>0 0</td>\n",
       "    </tr>\n",
       "  </tbody>\n",
       "</table>\n",
       "</div>"
      ],
      "text/plain": [
       "           filename predicted\n",
       "0  e742d34a26d4.jpg       0 0\n",
       "1  b193b6a6d68d.jpg       0 0\n",
       "2  07e4191fa3a8.jpg       0 0\n",
       "3  b1a911cb2e6c.jpg       0 0\n",
       "4  d8ab9cda1b33.jpg       0 0"
      ]
     },
     "execution_count": 67,
     "metadata": {},
     "output_type": "execute_result"
    }
   ],
   "source": [
    "test_df = pd.read_csv(os.path.join(root,\"sample_submission.csv\"))\n",
    "test_df.head()"
   ]
  },
  {
   "cell_type": "code",
   "execution_count": 68,
   "metadata": {
    "execution": {
     "iopub.execute_input": "2021-12-07T17:57:08.282383Z",
     "iopub.status.busy": "2021-12-07T17:57:08.282127Z",
     "iopub.status.idle": "2021-12-07T17:57:09.230978Z",
     "shell.execute_reply": "2021-12-07T17:57:09.230287Z",
     "shell.execute_reply.started": "2021-12-07T17:57:08.282354Z"
    }
   },
   "outputs": [
    {
     "name": "stdout",
     "output_type": "stream",
     "text": [
      "Found 350 validated image filenames.\n"
     ]
    }
   ],
   "source": [
    "test_gen = train_datagen.flow_from_dataframe(dataframe=test_df,\n",
    "                                             directory=TEST_DIR,\n",
    "                                             x_col=\"filename\",\n",
    "                                             class_mode=None,\n",
    "                                             shuffle=False,\n",
    "                                             target_size=(IMAGE_SIZE,IMAGE_SIZE),\n",
    "                                             batch_size=BATCH_SIZE)"
   ]
  },
  {
   "cell_type": "code",
   "execution_count": null,
   "metadata": {
    "execution": {
     "iopub.status.busy": "2021-12-07T17:49:04.114395Z",
     "iopub.status.idle": "2021-12-07T17:49:04.115462Z",
     "shell.execute_reply": "2021-12-07T17:49:04.115241Z",
     "shell.execute_reply.started": "2021-12-07T17:49:04.115219Z"
    }
   },
   "outputs": [],
   "source": [
    "ensemble_model.load_weights(\"ensemble_model.h5\")"
   ]
  },
  {
   "cell_type": "code",
   "execution_count": 70,
   "metadata": {
    "execution": {
     "iopub.execute_input": "2021-12-07T17:57:30.868254Z",
     "iopub.status.busy": "2021-12-07T17:57:30.867443Z",
     "iopub.status.idle": "2021-12-07T17:57:35.034656Z",
     "shell.execute_reply": "2021-12-07T17:57:35.033901Z",
     "shell.execute_reply.started": "2021-12-07T17:57:30.868202Z"
    }
   },
   "outputs": [],
   "source": [
    "predictions = ensemble_model.predict_generator(test_gen)"
   ]
  },
  {
   "cell_type": "code",
   "execution_count": 72,
   "metadata": {
    "execution": {
     "iopub.execute_input": "2021-12-07T17:57:47.123136Z",
     "iopub.status.busy": "2021-12-07T17:57:47.122868Z",
     "iopub.status.idle": "2021-12-07T17:57:47.131154Z",
     "shell.execute_reply": "2021-12-07T17:57:47.130316Z",
     "shell.execute_reply.started": "2021-12-07T17:57:47.123105Z"
    }
   },
   "outputs": [],
   "source": [
    "labels = (train_gen.class_indices)\n",
    "labels = dict((v,k) for k,v in labels.items())\n",
    "labels\n",
    "LABELS = list(LABELS)\n",
    "\n",
    "def probs2label(probs):\n",
    "    ''' Return real index following LABELS\n",
    "    '''\n",
    "    global LABELS, labels\n",
    "    result = \" \".join([str(LABELS.index(labels[idx])) for idx, prob in enumerate(probs) if prob > 0.5])\n",
    "    print(result)\n",
    "    return result"
   ]
  },
  {
   "cell_type": "code",
   "execution_count": 73,
   "metadata": {
    "execution": {
     "iopub.execute_input": "2021-12-07T17:57:52.724828Z",
     "iopub.status.busy": "2021-12-07T17:57:52.724121Z",
     "iopub.status.idle": "2021-12-07T17:57:52.869230Z",
     "shell.execute_reply": "2021-12-07T17:57:52.868548Z",
     "shell.execute_reply.started": "2021-12-07T17:57:52.724791Z"
    }
   },
   "outputs": [
    {
     "name": "stdout",
     "output_type": "stream",
     "text": [
      "6\n",
      "4 0\n",
      "0\n",
      "0\n",
      "2 0\n",
      "2 4 0\n",
      "6\n",
      "1 3\n",
      "5\n",
      "2\n",
      "1 0\n",
      "1 0\n",
      "2 0\n",
      "2 3 5\n",
      "3 5\n",
      "0\n",
      "4\n",
      "0\n",
      "1 3\n",
      "0\n",
      "1 3 0\n",
      "0\n",
      "0\n",
      "6\n",
      "6\n",
      "6\n",
      "1 3 0\n",
      "4\n",
      "0\n",
      "1 0\n",
      "1 3\n",
      "6\n",
      "3 5\n",
      "4\n",
      "0\n",
      "\n",
      "4 0\n",
      "6\n",
      "4 0\n",
      "4 0\n",
      "0 5\n",
      "1 3\n",
      "5\n",
      "1 3\n",
      "1 3 0\n",
      "3 0 5\n",
      "\n",
      "\n",
      "6\n",
      "0\n",
      "5\n",
      "1 3 0\n",
      "4\n",
      "6\n",
      "0\n",
      "\n",
      "6\n",
      "1 0\n",
      "0\n",
      "4\n",
      "5\n",
      "4\n",
      "1 0\n",
      "1\n",
      "3 5\n",
      "5\n",
      "1 0\n",
      "6\n",
      "4 0\n",
      "3 0\n",
      "1 0\n",
      "6\n",
      "1 0\n",
      "4\n",
      "4\n",
      "4\n",
      "0\n",
      "1 3\n",
      "3 0 5\n",
      "1 3 0\n",
      "1 3 0\n",
      "0\n",
      "4\n",
      "6\n",
      "4 0\n",
      "4 3 0\n",
      "0 5\n",
      "0\n",
      "5\n",
      "2\n",
      "2 3 0 5\n",
      "0\n",
      "0\n",
      "0\n",
      "1 0\n",
      "6\n",
      "6\n",
      "4 0\n",
      "1 3 0\n",
      "1\n",
      "3 0 5\n",
      "0\n",
      "6\n",
      "1 3\n",
      "3\n",
      "\n",
      "6\n",
      "2 0\n",
      "2 5\n",
      "0\n",
      "6\n",
      "2 0\n",
      "2\n",
      "6\n",
      "1 3 0\n",
      "6\n",
      "0\n",
      "4 0\n",
      "0\n",
      "6\n",
      "6\n",
      "0 5\n",
      "6\n",
      "1 0\n",
      "4 0 5\n",
      "\n",
      "1 3 0\n",
      "1 3\n",
      "4\n",
      "4\n",
      "5\n",
      "6\n",
      "1 3 0\n",
      "3 5\n",
      "1 0\n",
      "1 3 0\n",
      "1 3 0\n",
      "5\n",
      "1 0 5\n",
      "1 0\n",
      "1 0\n",
      "0\n",
      "1 3 0\n",
      "2\n",
      "1 0\n",
      "3 0 5\n",
      "2 3 0 5\n",
      "4\n",
      "1 0\n",
      "2 0\n",
      "6\n",
      "1 3\n",
      "2 0\n",
      "2\n",
      "4\n",
      "1\n",
      "2\n",
      "2\n",
      "3 0 5\n",
      "1\n",
      "\n",
      "6\n",
      "2 0\n",
      "4 0\n",
      "1 3 0\n",
      "6\n",
      "1\n",
      "0\n",
      "0\n",
      "0\n",
      "0\n",
      "6\n",
      "5\n",
      "0\n",
      "1 3 0\n",
      "1 3 0\n",
      "1 0\n",
      "2 0\n",
      "2\n",
      "0\n",
      "1 3\n",
      "0\n",
      "1 3\n",
      "1 3\n",
      "1 3 0\n",
      "1 3\n",
      "6\n",
      "1 0\n",
      "0\n",
      "2\n",
      "1 3 0\n",
      "4\n",
      "0\n",
      "0\n",
      "4\n",
      "2 0\n",
      "5\n",
      "0\n",
      "1 3 0\n",
      "6\n",
      "1 3\n",
      "4\n",
      "2\n",
      "2\n",
      "2 4 0\n",
      "4\n",
      "0\n",
      "3 0\n",
      "\n",
      "4\n",
      "1\n",
      "1 3\n",
      "3 5\n",
      "5\n",
      "1 3 0\n",
      "\n",
      "1 3 0\n",
      "1 3\n",
      "6\n",
      "4 0\n",
      "2 0\n",
      "2\n",
      "1 0\n",
      "1 3\n",
      "1 3 0\n",
      "5\n",
      "3 0 5\n",
      "1 3 0\n",
      "1 5\n",
      "6\n",
      "1 3\n",
      "4\n",
      "0\n",
      "1 3 0\n",
      "6\n",
      "3 0 5\n",
      "1 3\n",
      "0\n",
      "6\n",
      "2\n",
      "6\n",
      "4\n",
      "4\n",
      "5\n",
      "2\n",
      "0 5\n",
      "2 0\n",
      "6\n",
      "4\n",
      "2\n",
      "6\n",
      "4 0\n",
      "1 3 0\n",
      "4 0\n",
      "2 0\n",
      "0\n",
      "2 0 5\n",
      "0\n",
      "2\n",
      "4\n",
      "2\n",
      "\n",
      "2\n",
      "0\n",
      "3 0 5\n",
      "4 0\n",
      "2\n",
      "6\n",
      "4 0\n",
      "2 5\n",
      "3 5\n",
      "\n",
      "\n",
      "1 0\n",
      "2\n",
      "3 5\n",
      "4 0\n",
      "2\n",
      "6\n",
      "2\n",
      "4 0\n",
      "0 5\n",
      "0\n",
      "3 0 5\n",
      "2\n",
      "1 3 0\n",
      "1 3\n",
      "6\n",
      "1 0\n",
      "2 5\n",
      "4\n",
      "1\n",
      "0\n",
      "1 3\n",
      "4\n",
      "0 5\n",
      "1 3 5\n",
      "1 0\n",
      "2\n",
      "4 0\n",
      "2 3 0 5\n",
      "2 0\n",
      "\n",
      "0\n",
      "0\n",
      "2\n",
      "2 4\n",
      "4\n",
      "0\n",
      "3 5\n",
      "0\n",
      "\n",
      "\n",
      "3 0 5\n",
      "1 0\n",
      "6\n",
      "1 3 0\n",
      "4 0\n",
      "0\n",
      "1 3\n",
      "2\n",
      "1 3 0\n",
      "3 0 5\n",
      "0\n",
      "1 0\n",
      "6\n",
      "2\n",
      "0\n",
      "0\n",
      "3 0 5\n",
      "1\n",
      "1 0\n",
      "4 0\n",
      "4 3 0\n",
      "0\n",
      "2\n",
      "6\n",
      "6\n",
      "0\n",
      "6\n",
      "0\n",
      "1\n",
      "0\n",
      "3 0 5\n",
      "0\n",
      "6\n",
      "1 0\n",
      "1\n",
      "0\n",
      "2\n"
     ]
    }
   ],
   "source": [
    "for idx, row in test_df.iterrows():\n",
    "    test_df.loc[idx]['predicted'] = probs2label(predictions[idx])"
   ]
  },
  {
   "cell_type": "code",
   "execution_count": 74,
   "metadata": {
    "execution": {
     "iopub.execute_input": "2021-12-07T17:57:58.516583Z",
     "iopub.status.busy": "2021-12-07T17:57:58.516052Z",
     "iopub.status.idle": "2021-12-07T17:57:58.525069Z",
     "shell.execute_reply": "2021-12-07T17:57:58.524332Z",
     "shell.execute_reply.started": "2021-12-07T17:57:58.516549Z"
    }
   },
   "outputs": [
    {
     "data": {
      "text/html": [
       "<div>\n",
       "<style scoped>\n",
       "    .dataframe tbody tr th:only-of-type {\n",
       "        vertical-align: middle;\n",
       "    }\n",
       "\n",
       "    .dataframe tbody tr th {\n",
       "        vertical-align: top;\n",
       "    }\n",
       "\n",
       "    .dataframe thead th {\n",
       "        text-align: right;\n",
       "    }\n",
       "</style>\n",
       "<table border=\"1\" class=\"dataframe\">\n",
       "  <thead>\n",
       "    <tr style=\"text-align: right;\">\n",
       "      <th></th>\n",
       "      <th>filename</th>\n",
       "      <th>predicted</th>\n",
       "    </tr>\n",
       "  </thead>\n",
       "  <tbody>\n",
       "    <tr>\n",
       "      <th>0</th>\n",
       "      <td>e742d34a26d4.jpg</td>\n",
       "      <td>6</td>\n",
       "    </tr>\n",
       "    <tr>\n",
       "      <th>1</th>\n",
       "      <td>b193b6a6d68d.jpg</td>\n",
       "      <td>4 0</td>\n",
       "    </tr>\n",
       "    <tr>\n",
       "      <th>2</th>\n",
       "      <td>07e4191fa3a8.jpg</td>\n",
       "      <td>0</td>\n",
       "    </tr>\n",
       "    <tr>\n",
       "      <th>3</th>\n",
       "      <td>b1a911cb2e6c.jpg</td>\n",
       "      <td>0</td>\n",
       "    </tr>\n",
       "    <tr>\n",
       "      <th>4</th>\n",
       "      <td>d8ab9cda1b33.jpg</td>\n",
       "      <td>2 0</td>\n",
       "    </tr>\n",
       "  </tbody>\n",
       "</table>\n",
       "</div>"
      ],
      "text/plain": [
       "           filename predicted\n",
       "0  e742d34a26d4.jpg         6\n",
       "1  b193b6a6d68d.jpg       4 0\n",
       "2  07e4191fa3a8.jpg         0\n",
       "3  b1a911cb2e6c.jpg         0\n",
       "4  d8ab9cda1b33.jpg       2 0"
      ]
     },
     "execution_count": 74,
     "metadata": {},
     "output_type": "execute_result"
    }
   ],
   "source": [
    "test_df.head()"
   ]
  },
  {
   "cell_type": "code",
   "execution_count": 75,
   "metadata": {
    "execution": {
     "iopub.execute_input": "2021-12-07T17:58:01.499451Z",
     "iopub.status.busy": "2021-12-07T17:58:01.499193Z",
     "iopub.status.idle": "2021-12-07T17:58:01.508781Z",
     "shell.execute_reply": "2021-12-07T17:58:01.507854Z",
     "shell.execute_reply.started": "2021-12-07T17:58:01.499423Z"
    }
   },
   "outputs": [],
   "source": [
    "test_df.to_csv(\"submission.csv\", index=False)"
   ]
  }
 ],
 "metadata": {
  "kernelspec": {
   "display_name": "Python 3",
   "language": "python",
   "name": "python3"
  },
  "language_info": {
   "codemirror_mode": {
    "name": "ipython",
    "version": 3
   },
   "file_extension": ".py",
   "mimetype": "text/x-python",
   "name": "python",
   "nbconvert_exporter": "python",
   "pygments_lexer": "ipython3",
   "version": "3.8.5"
  }
 },
 "nbformat": 4,
 "nbformat_minor": 4
}
